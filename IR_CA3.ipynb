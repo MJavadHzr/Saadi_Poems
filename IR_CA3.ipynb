{
  "cells": [
    {
      "cell_type": "markdown",
      "id": "n-FcFKsoHmJn",
      "metadata": {
        "id": "n-FcFKsoHmJn"
      },
      "source": [
        "# Information Retrieval - Spring 2022\n",
        "- topic: **Saadi's poems**\n",
        "- members: _Javad Hezareh, Yasin Moosavi, Amirali Ebrahimzadeh_\n",
        "\n",
        "---\n",
        "\n",
        "In this project we've implemented a retrieval system for saadi's poems.\n",
        "\n",
        "We have crawled our data from 'ganjoor.net' and implemented 4 method to retrieve similar poems such as boolean, tf-idf, transformers and using fasttext.\n",
        "\n",
        "---\n",
        "\n",
        "Contents:\n",
        "1. Crawling\n",
        "2. Data Explenation\n",
        "3. Load Data\n",
        "4. Preprocessing\n",
        "5. Utils\n",
        "6. Methodes\n",
        "    - Boolean\n",
        "    - TF-IDF\n",
        "    - Transformer\n",
        "    - Fast Text\n"
      ]
    },
    {
      "cell_type": "code",
      "source": [
        "# change this to 'True' if you want to use cralwer\n",
        "# note: colab can't connect to 'ganjoor.net', so run this notebook localy in case of\n",
        "# useing crawler\n",
        "crawl = False"
      ],
      "metadata": {
        "id": "LO0k_VW73mf3"
      },
      "id": "LO0k_VW73mf3",
      "execution_count": 4,
      "outputs": []
    },
    {
      "cell_type": "markdown",
      "id": "cCo2r3KJ9GUl",
      "metadata": {
        "id": "cCo2r3KJ9GUl"
      },
      "source": [
        "# Crawling"
      ]
    },
    {
      "cell_type": "code",
      "execution_count": null,
      "id": "7d04103c-53d7-44a7-9d2b-e8ed826e4c06",
      "metadata": {
        "id": "7d04103c-53d7-44a7-9d2b-e8ed826e4c06"
      },
      "outputs": [],
      "source": [
        "!pip install bs4"
      ]
    },
    {
      "cell_type": "code",
      "execution_count": null,
      "id": "ee65e50d-6e2f-4707-8ad9-96ee2b2f0d09",
      "metadata": {
        "id": "ee65e50d-6e2f-4707-8ad9-96ee2b2f0d09"
      },
      "outputs": [],
      "source": [
        "import requests\n",
        "import json\n",
        "from bs4 import BeautifulSoup"
      ]
    },
    {
      "cell_type": "code",
      "execution_count": null,
      "id": "6a345c09-f692-4e95-bca8-a1ac605d31fb",
      "metadata": {
        "id": "6a345c09-f692-4e95-bca8-a1ac605d31fb"
      },
      "outputs": [],
      "source": [
        "ganjoor = 'https://ganjoor.net'\n",
        "bostan = '/saadi/boostan'\n",
        "golestan = '/saadi/golestan'"
      ]
    },
    {
      "cell_type": "code",
      "execution_count": null,
      "id": "375b7e97-4aa9-4fb8-aa90-8bac559ee848",
      "metadata": {
        "id": "375b7e97-4aa9-4fb8-aa90-8bac559ee848"
      },
      "outputs": [],
      "source": [
        "def extract_poems(source):\n",
        "    data = {}\n",
        "    data['name'] = source.split('/')[-1]\n",
        "    data['url'] = source\n",
        "    \n",
        "    tag = 'div.part-title-block > a'\n",
        "    \n",
        "    response = requests.get(source)\n",
        "    soup = BeautifulSoup(response.text, 'lxml')\n",
        "    \n",
        "    babs = []\n",
        "    for p in soup.select(tag):\n",
        "        bab = {}\n",
        "        name = p.get_text()\n",
        "        url = p.attrs.get('href')\n",
        "        bab['bab-name'] = name\n",
        "        bab['bab-url'] = url\n",
        "        \n",
        "        new_url = f'https://ganjoor.net{url}'\n",
        "        bab['bab-sections'] = get_section_data(new_url)\n",
        "        babs.append(bab)\n",
        "        \n",
        "        print(f\"bab '{name}' is done.\")\n",
        "    \n",
        "    data['babs'] = babs\n",
        "    return data\n",
        "\n",
        "\n",
        "def get_section_data(url):\n",
        "    secs = []\n",
        "    \n",
        "    tag = 'div.poem p.poem-excerpt > a'\n",
        "    response = requests.get(url)\n",
        "    soup = BeautifulSoup(response.text, 'lxml')\n",
        "    \n",
        "    sections = list(soup.select(tag))\n",
        "    if len(sections) == 0:\n",
        "        section = {}\n",
        "        section['sec-name'] = 'شعر'\n",
        "        section['sec-poems'] = get_poems(url)\n",
        "        \n",
        "        secs.append(section)\n",
        "    else:\n",
        "        for s in sections:\n",
        "            section = {}\n",
        "            name = s.get_text()\n",
        "            url = s.attrs.get('href')\n",
        "            \n",
        "            section['sec-name'] = name\n",
        "            \n",
        "            new_url = f'https://ganjoor.net{url}'\n",
        "            section['sec-poems'] = get_poems(new_url)\n",
        "\n",
        "            secs.append(section)\n",
        "\n",
        "    return secs\n",
        "\n",
        "\n",
        "def get_poems(url):\n",
        "    response = requests.get(url)\n",
        "    soup = BeautifulSoup(response.text, 'lxml')\n",
        "    \n",
        "    poems = []\n",
        "    couplet = soup.find_all('div', {'class': ['n', 'b']})\n",
        "    for c in couplet:\n",
        "        mesra = [x.get_text() for x in c.find_all('p')]\n",
        "        poems.append('\\t\\t'.join(mesra))\n",
        "    return poems"
      ]
    },
    {
      "cell_type": "code",
      "execution_count": null,
      "id": "b69d68a4-1f66-406a-8b2c-c705f774910b",
      "metadata": {
        "colab": {
          "base_uri": "https://localhost:8080/",
          "height": 380
        },
        "id": "b69d68a4-1f66-406a-8b2c-c705f774910b",
        "outputId": "2e53bae5-d27c-42e3-d4af-ead3406da503"
      },
      "outputs": [
        {
          "name": "stdout",
          "output_type": "stream",
          "text": [
            "bab 'در نیایش خداوند' is done.\n",
            "bab 'باب اول در عدل و تدبیر و رای' is done.\n",
            "bab 'باب دوم در احسان' is done.\n",
            "bab 'باب سوم در عشق و مستی و شور' is done.\n",
            "bab 'باب چهارم در تواضع' is done.\n",
            "bab 'باب پنجم در رضا' is done.\n",
            "bab 'باب ششم در قناعت' is done.\n",
            "bab 'باب هفتم در عالم تربیت' is done.\n",
            "bab 'باب هشتم در شکر بر عافیت' is done.\n",
            "bab 'باب نهم در توبه و راه صواب' is done.\n",
            "bab 'باب دهم در مناجات و ختم کتاب' is done.\n",
            "\n",
            "bab 'دیباچه' is done.\n",
            "bab 'باب اول در سیرت پادشاهان' is done.\n",
            "bab 'باب دوم در اخلاق درویشان' is done.\n",
            "bab 'باب سوم در فضیلت قناعت' is done.\n",
            "bab 'باب چهارم در فواید خاموشی' is done.\n",
            "bab 'باب پنجم در عشق و جوانی' is done.\n",
            "bab 'باب ششم در ضعف و پیری' is done.\n",
            "bab 'باب هفتم در تأثیر تربیت' is done.\n",
            "bab 'باب هشتم در آداب صحبت' is done.\n",
            "\n"
          ]
        }
      ],
      "source": [
        "sources = [ganjoor + bostan, ganjoor + golestan]\n",
        "data = []\n",
        "\n",
        "if crawl:\n",
        "    # crawl data from ganjoor.net\n",
        "    for addr in sources:\n",
        "        data.append(extract_poems(addr))\n",
        "        print()\n",
        "\n",
        "    # save data in file\n",
        "    for s in range(2):\n",
        "        file_name = ['boostan', 'golestan'][s]\n",
        "        with open(f'{file_name}.json', 'w', encoding='utf8') as jf:\n",
        "            json.dump(data[s], jf, ensure_ascii=False)"
      ]
    },
    {
      "cell_type": "markdown",
      "id": "e462970a-6659-4051-8af6-15107a3e2adf",
      "metadata": {
        "id": "e462970a-6659-4051-8af6-15107a3e2adf"
      },
      "source": [
        "# Data Explenation"
      ]
    },
    {
      "cell_type": "markdown",
      "id": "5374f731-8c51-48f2-b16b-a3e3a6979ea0",
      "metadata": {
        "id": "5374f731-8c51-48f2-b16b-a3e3a6979ea0"
      },
      "source": [
        "each _.json_ file consists of Saadi's poems from his books. Each book consists of different _bab_s and each bab consists of different _section_s and in sections we can accesse poems\n",
        "\n",
        "|books field|babs field|sections field|\n",
        "|:---:|:---:|:---:|\n",
        "|name|bab-name|sec-name|\n",
        "|url|bab-url|sec-poems|\n",
        "|babs|bab-sections||"
      ]
    },
    {
      "cell_type": "markdown",
      "id": "3de7d66b-6d81-4bfe-9c16-abbfcdb36cec",
      "metadata": {
        "id": "3de7d66b-6d81-4bfe-9c16-abbfcdb36cec"
      },
      "source": [
        "# Load Data"
      ]
    },
    {
      "cell_type": "code",
      "source": [
        "# uncomment below codes if you don't have data\n",
        "# !wget --no-cache --backups=1 https://github.com/MJavadHzr/Saadi_Poems/blob/master/stop_words.txt\n",
        "# !wget --no-cache --backups=1 https://github.com/MJavadHzr/Saadi_Poems/blob/master/boostan.json\n",
        "# !wget --no-cache --backups=1 https://github.com/MJavadHzr/Saadi_Poems/blob/master/golestan.json\n",
        "# !wget --no-cache --backups=1 https://github.com/MJavadHzr/Saadi_Poems/blob/master/test_inputs.txt"
      ],
      "metadata": {
        "id": "OA8xlnSd4iK2"
      },
      "id": "OA8xlnSd4iK2",
      "execution_count": null,
      "outputs": []
    },
    {
      "cell_type": "code",
      "execution_count": null,
      "id": "25e9dccd-434a-4238-b2b4-b1b76027d8e1",
      "metadata": {
        "id": "25e9dccd-434a-4238-b2b4-b1b76027d8e1"
      },
      "outputs": [],
      "source": [
        "import json\n",
        "\n",
        "boostan = 'boostan'\n",
        "golestan = 'golestan'"
      ]
    },
    {
      "cell_type": "code",
      "execution_count": null,
      "id": "1aaec60f-0b41-48ac-8eee-d4910df97c99",
      "metadata": {
        "id": "1aaec60f-0b41-48ac-8eee-d4910df97c99"
      },
      "outputs": [],
      "source": [
        "# load data\n",
        "with open(f'{boostan}.json', encoding='utf-8') as fh:\n",
        "    boostan = json.load(fh)\n",
        "    \n",
        "with open(f'{golestan}.json', encoding='utf-8') as fh:\n",
        "    golestan = json.load(fh)\n",
        "    \n",
        "data = [boostan, golestan]"
      ]
    },
    {
      "cell_type": "markdown",
      "id": "7d0a104d-c925-48f2-8c8f-262be715fb61",
      "metadata": {
        "id": "7d0a104d-c925-48f2-8c8f-262be715fb61"
      },
      "source": [
        "# Preprocessing"
      ]
    },
    {
      "cell_type": "code",
      "execution_count": null,
      "id": "7b580e8e-16a0-4f76-b0a2-6fd9e35e7bb0",
      "metadata": {
        "id": "7b580e8e-16a0-4f76-b0a2-6fd9e35e7bb0"
      },
      "outputs": [],
      "source": [
        "!pip install hazm"
      ]
    },
    {
      "cell_type": "code",
      "execution_count": null,
      "id": "f6c2c4bf-e708-4e4f-8d03-76cce3abc29d",
      "metadata": {
        "id": "f6c2c4bf-e708-4e4f-8d03-76cce3abc29d"
      },
      "outputs": [],
      "source": [
        "from hazm import *\n",
        "import copy\n",
        "import codecs\n",
        "import string"
      ]
    },
    {
      "cell_type": "code",
      "execution_count": null,
      "id": "d4596f43-f35a-4318-a95d-a4f3c7e49862",
      "metadata": {
        "id": "d4596f43-f35a-4318-a95d-a4f3c7e49862"
      },
      "outputs": [],
      "source": [
        "class Preprocessor:\n",
        "    def __init__(self, stopwords=True, punctuation=True):\n",
        "        self.normalizer = Normalizer()\n",
        "        self.lemmatizer = Lemmatizer()\n",
        "        self.tokenizer = word_tokenize\n",
        "        self.stopwords = [self.normalizer.normalize(x.strip()) for x in codecs.open('stop_words.txt','r','utf-8').readlines()] if stopwords else ''\n",
        "        # stopwords = ['از', 'به', 'در', 'با', 'برای', 'تا', 'چون', 'آن', 'این', 'همان', 'همین', 'به', 'بی', 'است', 'نیست', '', '']\n",
        "        self.punctuation = ''.join(['،', '؛', '؟']) + string.punctuation if punctuation else ''\n",
        "        \n",
        "    \n",
        "    def _normalize(self, sentence, normalizer, lemmatizer, tokenizer, punctuation, stopwords, tokenize):\n",
        "        s = normalizer.normalize(sentence)\n",
        "        s = s.replace('\\u200c', ' ')\n",
        "        \n",
        "        tokens = tokenizer(s)\n",
        "        \n",
        "        tokens = [t for t in tokens if t not in stopwords]\n",
        "        tokens = [t for t in tokens if t not in punctuation]\n",
        "        \n",
        "        tokens = [lemmatizer.lemmatize(t) for t in tokens]\n",
        "        \n",
        "        if tokenize:\n",
        "            return tokens\n",
        "        else:\n",
        "            return ' '.join(tokens)\n",
        "    \n",
        "    def transform(self, sentence, tokenize):\n",
        "        return self._normalize(sentence, self.normalizer, self.lemmatizer, self.tokenizer, self.stopwords, self.punctuation, tokenize)\n",
        "\n",
        "    def fit(self, database, tokenize):\n",
        "        norm_func = lambda x: self._normalize(x, self.normalizer, self.lemmatizer, self.tokenizer, self.stopwords, self.punctuation, tokenize)\n",
        "        norm_data = copy.deepcopy(database)\n",
        "        # normalize\n",
        "        for d in norm_data:\n",
        "            for b in d['babs']:\n",
        "                for s in b['bab-sections']:\n",
        "                    s['sec-poems'] = list(map(norm_func, s['sec-poems']))\n",
        "        \n",
        "        return norm_data"
      ]
    },
    {
      "cell_type": "code",
      "execution_count": null,
      "id": "AuX4Epnv4zzA",
      "metadata": {
        "id": "AuX4Epnv4zzA"
      },
      "outputs": [],
      "source": [
        "preprocessor = Preprocessor()"
      ]
    },
    {
      "cell_type": "markdown",
      "id": "jjlCf1En9sbh",
      "metadata": {
        "id": "jjlCf1En9sbh"
      },
      "source": [
        "# Utils"
      ]
    },
    {
      "cell_type": "code",
      "execution_count": null,
      "id": "SscnUbGU5AfR",
      "metadata": {
        "id": "SscnUbGU5AfR"
      },
      "outputs": [],
      "source": [
        "def get_couplets(database):\n",
        "    all_couplets = []\n",
        "    for d in database:\n",
        "        for b in d['babs']:\n",
        "            for s in b['bab-sections']:\n",
        "                all_couplets += s['sec-poems']\n",
        "    return all_couplets\n",
        "\n",
        "\n",
        "def get_poems(database):\n",
        "    all_poems = []\n",
        "    for d in database:\n",
        "        for b in d['babs']:\n",
        "            for s in b['bab-sections']:\n",
        "                all_poems.append(s['sec-poems'])\n",
        "    return all_poems\n",
        "\n",
        "\n",
        "def get_tokens(database):\n",
        "    all_couplets = get_couplets(database)\n",
        "    tokens = set()\n",
        "    for couplet in all_couplets:\n",
        "        tokens = tokens.union(couplet)\n",
        "    return tokens\n",
        "\n",
        "\n",
        "def test_model(model, name):\n",
        "    f = open('test_inputs.txt', 'r', encoding='utf8')\n",
        "    inputs = f.read()\n",
        "    f.close()\n",
        "\n",
        "    results = []\n",
        "    f = open(f'{name}_result.txt', 'w', encoding='utf8')\n",
        "    for query in inputs.split('\\n'):\n",
        "        results = []\n",
        "        out = model.search(query)\n",
        "        for o in out:\n",
        "            results.append(o['key'])\n",
        "        print(out)\n",
        "        out = '\\n'.join(results)\n",
        "        f.write(out)\n",
        "        f.write('\\n\\n')\n",
        "    f.close()"
      ]
    },
    {
      "cell_type": "markdown",
      "id": "rXDg2f1v9wV2",
      "metadata": {
        "id": "rXDg2f1v9wV2"
      },
      "source": [
        "# Boolean"
      ]
    },
    {
      "cell_type": "code",
      "execution_count": null,
      "id": "VUIhFwWq9x81",
      "metadata": {
        "id": "VUIhFwWq9x81"
      },
      "outputs": [],
      "source": [
        "import numpy as np\n",
        "import copy\n",
        "\n",
        "class BooleanModel:\n",
        "    def __init__(self, database, preprocessor):\n",
        "        self.database = database\n",
        "        self.preprocessor = preprocessor\n",
        "        self.norm_data = self.preprocessor.fit(database, tokenize=True)\n",
        "\n",
        "\n",
        "    def fit(self):\n",
        "        self.vec_dic = {}\n",
        "        self.terms = get_tokens(self.norm_data)\n",
        "        docs = [' '.join(x) for x in get_couplets(self.norm_data)]\n",
        "        raw_docs = get_couplets(self.database)\n",
        "\n",
        "        for i in range(len(docs)):\n",
        "            doc_tok = docs[i].split()\n",
        "            attendance = []\n",
        "            for term in self.terms:\n",
        "                if term in doc_tok:\n",
        "                    attendance.append(1)\n",
        "                else:\n",
        "                    attendance.append(0)\n",
        "    \n",
        "            cp = copy.copy(attendance)\n",
        "            self.vec_dic.update({raw_docs[i]: cp})\n",
        "\n",
        "\n",
        "    def search(self, query, method='couplet', k=10):\n",
        "        qvec = self._build_query_vec(query)\n",
        "\n",
        "        dictionary = {}\n",
        "        for i in self.vec_dic.keys():\n",
        "            dictionary.update({i: np.dot(qvec, self.vec_dic[i])})\n",
        "    \n",
        "        ls = sorted(dictionary, key=dictionary.get, reverse=True)[:k]\n",
        "        out = []\n",
        "        for i in ls:\n",
        "            out.append({ \"key\" : i , \"value\" : dictionary[i]})\n",
        "        \n",
        "        return out\n",
        "\n",
        "\n",
        "    def _build_query_vec(self, query):\n",
        "        query = self.preprocessor.transform(query, tokenize=True)\n",
        "        \n",
        "        qvec = []\n",
        "        for i in self.terms:\n",
        "            if i in query:\n",
        "                qvec.append(1)\n",
        "            else:\n",
        "                qvec.append(0)\n",
        "    \n",
        "        return qvec"
      ]
    },
    {
      "cell_type": "code",
      "execution_count": null,
      "id": "-phmwmGFD82I",
      "metadata": {
        "id": "-phmwmGFD82I"
      },
      "outputs": [],
      "source": [
        "boolean_model = BooleanModel(data, preprocessor)\n",
        "boolean_model.fit()"
      ]
    },
    {
      "cell_type": "markdown",
      "id": "VMG7sfxTx0go",
      "metadata": {
        "id": "VMG7sfxTx0go"
      },
      "source": [
        "### Boolean Testing"
      ]
    },
    {
      "cell_type": "code",
      "execution_count": null,
      "id": "AKxi2iGoEGID",
      "metadata": {
        "colab": {
          "base_uri": "https://localhost:8080/"
        },
        "id": "AKxi2iGoEGID",
        "outputId": "5e7e0106-46e1-43f9-bb37-6604a9a2385a"
      },
      "outputs": [
        {
          "data": {
            "text/plain": [
              "[{'key': 'دلم خانهٔ مهر یار است و بس\\t\\tاز آن می\\u200cنگنجد در او کین کس',\n",
              "  'value': 5},\n",
              " {'key': 'که گردد درونش به کین تو ریش\\t\\tچو یاد آیدش مهر پیوند خویش',\n",
              "  'value': 2},\n",
              " {'key': 'زرش داد و اسب و قبا پوستین\\t\\tچه نیکو بود مهر در وقت کین',\n",
              "  'value': 2},\n",
              " {'key': 'به حکم ضرورت در پی کاروانی افتاد و برفت. شبانگه برسیدند به مقامی که از دزدان پر خطر بود. کاروانیان را دید لرزه بر اندام اوفتاده و دل بر هلاک نهاده. گفت: اندیشه مدارید که یکی منم در این میان که به تنها پنجاه مرد را جواب دهم و دیگر جوانان هم یاری کنند. این بگفت و مردم کاروان را به لاف او دل قوی گشت و به صحبتش شادمانی کردند و به زاد و آبش دستگیری واجب دانستند. جوان را آتش معده بالا گرفته بود و عنان طاقت از دست رفته. لقمه ای چند از سر اشتها تناول کرد و دمی چند آب در سرش آشامید تا دیو درونش بیارمید و بخفت. پیرمردی جهاندیده در آن میان بود. گفت: ای یاران! من از این بدرقه شما اندیشناکم، نه چندان که از دزدان؛ چنان که حکایت کنند که عربی را درمی چند گرد آمده بود و به شب از تشویش لوریان در خانه تنها خوابش نمی برد. یکی را از دوستان پیش خود آورد تا وحشت تنهایی به دیدار او منصرف کند و شبی چند در صحبت او بود. چندان که بر درمهاش اطلاع یافت، ببرد و بخورد و سفر کرد. بامدادان دیدند عرب را گریان و عریان. گفتند: حال چیست؟ مگر آن درمهای ترا دزد برد؟ گفت: لا ولله! بدرقه برد.',\n",
              "  'value': 2},\n",
              " {'key': 'یتیمی که ناکرده قرآن درست\\t\\tکتب خانهٔ چند ملت بشست', 'value': 1},\n",
              " {'key': 'برون بینم اوصاف شاه از حساب\\t\\tنگنجد در این تنگ میدان کتاب',\n",
              "  'value': 1},\n",
              " {'key': 'جهانت به کام و فلک یار باد\\t\\tجهان آفرینت نگهدار باد', 'value': 1},\n",
              " {'key': 'تو آن در مکنون یکدانه\\u200cای\\t\\tکه پیرایهٔ سلطنت خانه\\u200cای',\n",
              "  'value': 1},\n",
              " {'key': 'نگنجد کرمهای حق در قیاس\\t\\tچه خدمت گزارد زبان سپاس؟', 'value': 1},\n",
              " {'key': 'چه دانی که همدست گردند و یار\\t\\tیکی دزد باشد، یکی پرده\\u200cدار',\n",
              "  'value': 1}]"
            ]
          },
          "execution_count": 50,
          "metadata": {},
          "output_type": "execute_result"
        }
      ],
      "source": [
        "query = 'دلم خانه‌ی مهر یار است و بس از آن می‌نگنجد در او کین کس'\n",
        "boolean_model.search(query)"
      ]
    },
    {
      "cell_type": "code",
      "execution_count": null,
      "id": "WHebT4RuYMKK",
      "metadata": {
        "colab": {
          "base_uri": "https://localhost:8080/"
        },
        "id": "WHebT4RuYMKK",
        "outputId": "6dbe88cf-5bc7-4a3a-e21c-c79d42ae3f4f"
      },
      "outputs": [
        {
          "name": "stdout",
          "output_type": "stream",
          "text": [
            "[{'key': 'تقصیر و تقاعدی که در مواظبت خدمت بارگاه خداوندی می\\u200cرود بنا بر آن است که طایفه\\u200cای از حکماء هندوستان در فضایل بزرجمهر سخن می\\u200cگفتند، به آخر جز این عیبش ندانستند که در سخن گفتن بطیء است یعنی درنگ بسیار می\\u200cکند و مستمع را بسی منتظر باید بودن تا تقریر سخنی کند. بزرجمهر بشنید و گفت: اندیشه کردن که چه گویم به از پشیمانی خوردن که چرا گفتم.', 'value': 2}, {'key': 'بر سلامت حالش شادمانی کرد و از هر دری سخن گفتند تا ملک به انجام سخن گفت: چنین که من این هر دو طایفه را دوست دارم در جهان کس ندارد یکی علما و دیگر زهاد را.', 'value': 2}, {'key': 'اما صاحب دنیا به عین عنایت حق ملحوظ است و به حلال از حرام محفوظ. من همانا که تقریر این سخن نکردم و برهان بیان نیاوردم، انصاف از تو توقع دارم هرگز دیده\\u200cای دست دعایی بر کتف بسته یا بینوایی به زندان در نشسته یا پردهٔ معصومی دریده یا کفی از معصم بریده، الا به علت درویشی؟ شیرمردان را به حکم ضرورت در نقبها گرفته\\u200cاند و کعبها سفته و محتمل است آن که یکی را از درویشان نفس اماره طلب کند، چو قوت احصانش نباشد، به عصیان مبتلا گردد که بطن و فرج توأمند، یعنی فرزند یک شکمند: مادام که این یکی برجای است، آن دگر بر پای است. شنیدم که درویشی را با حدثی بر خبثی گرفتند. با آن که شرمساری برد، بیم سنگساری بود. گفت: ای مسلمانان قوت ندارم که زن کنم و طاقت نه که صبر کنم چه کنم؟ لا رهبانیة فی الاسلام. وز جمله مواجب سکون و جمعیت درون که مر توانگر را میسر می\\u200cشود یکی آن که هر شب صنمی در بر گیرد که هر روز بدو جوانی از سر گیرد صبح تابان را دست از صباحت او بر دل و سرو خرامان را پای از خجالت او در گل.', 'value': 2}, {'key': 'به نام خداوندِ جان\\u200cآفرین\\t\\tحکیمِ سخن\\u200cدرزبان\\u200cآفرین', 'value': 1}, {'key': 'مگر بویی از عشق مستت کند\\t\\tطلبکار عهد الستت کند', 'value': 1}, {'key': 'ندانم کدامین سخن گویمت\\t\\tکه والاتری زانچه من گویمت', 'value': 1}, {'key': 'مرا گر تهی بود از آن قند دست\\t\\tسخنهای شیرین\\u200cتر از قند هست', 'value': 1}, {'key': 'سوم باب عشق است و مستی و شور\\t\\tنه عشقی که بندند بر خود بزور', 'value': 1}, {'key': 'تو نیز ار بدی بینیم در سخن\\t\\tبه خلق جهان آفرین کار کن', 'value': 1}, {'key': 'خرابی و بدنامی آید ز جور\\t\\tرسد پیش بین این سخن را به غور', 'value': 1}]\n",
            "[{'key': 'بمانده\\u200cست با دامنی گوهرم\\t\\tهنوز از خجالت به زانو برم', 'value': 1}, {'key': 'شنیدم که در روز امید و بیم\\t\\tبدان را به نیکان ببخشد کریم', 'value': 1}, {'key': 'طلبکار خیر است امیدوار\\t\\tخدایا امیدی که دارد برآر', 'value': 1}, {'key': 'برومند دارش درخت امید\\t\\tسرش سبز و رویش به رحمت سفید', 'value': 1}, {'key': 'اگر جاده\\u200cای بایدت مستقیم\\t\\tره پارسایان امید است و بیم', 'value': 1}, {'key': 'طبیعت شود مرد را بخردی\\t\\tبه امید نیکی و بیم بدی', 'value': 1}, {'key': 'که بخشایش آرد بر امیدوار\\t\\tبه امید بخشایش کردگار', 'value': 1}, {'key': 'سخن گفت و دامان گوهر فشاند\\t\\tبه نطقی که شه آستین برفشاند', 'value': 1}, {'key': 'زرش داد و گوهر به شکر قدوم\\t\\tبپرسیدش از گوهر و زاد و بوم', 'value': 1}, {'key': 'تو هم بر دری هستی امیدوار\\t\\tپس امید بر در نشینان برآر', 'value': 1}]\n",
            "[{'key': 'اتابک محمد شه نیکبخت\\t\\tخداوند تاج و خداوند تخت', 'value': 7}, {'key': 'بزرگان روشندل نیکبخت\\t\\tبه فرزانگی تاج بردند و تخت', 'value': 3}, {'key': 'یکی را به سر برنهد تاج بخت\\t\\tیکی را به خاک اندر آرد ز تخت', 'value': 2}, {'key': 'نه از بهر آن می\\u200cستانم خراج\\t\\tکه زینت کنم بر خود و تخت و تاج', 'value': 2}, {'key': 'مخالف خرش برد و سلطان خراج\\t\\tچه اقبال ماند در آن تخت و تاج؟', 'value': 2}, {'key': 'دگر خواست کافزون کند تخت و تاج\\t\\tبیافزود بر مرد دهقان خراج', 'value': 2}, {'key': 'اگر ملک بر جم بماندی و بخت\\t\\tتو را کی میسر شدی تاج و تخت؟', 'value': 2}, {'key': 'کرم پای دارد، نه دیهیم و تخت\\t\\tبده کز تو این ماند ای نیکبخت', 'value': 2}, {'key': 'ذکر جمیل سعدی که در افواه عوام افتاده است و صیت سخنش که در بسیط زمین رفته و قصب الجیب حدیثش که همچون شکر می\\u200cخورند و رقعهٔ منشآتش که چون کاغذ زر می\\u200cبرند بر کمال فضل و بلاغت او حمل نتوان کرد بلکه خداوند جهان و قطب دایرهٔ زمان و قایم مقام سلیمان و ناصر اهل ایمان اتابک اعظم مظفر الدنیا و الدین ابوبکر بن سعد بن زنگی ظلّ الله تعالی فی ارضه رَبِّ اِرْضَ عَنهُ و اَرْضِه به عین عنایت نظر کرده است و تحسین بلیغ فرموده و ارادت صادق نموده، لاجرم کافهٔ انام از خواص و عوام به محبت او گراییده\\u200cاند که الناسُ علی دینِ ملوکِهم.', 'value': 2}, {'key': 'خداوندان کام و نیکبختی\\t\\tچرا سختی خورند از بیم سختی', 'value': 2}]\n",
            "[{'key': 'مرا لفظ شیرین خواننده داد\\t\\tتو را سمع و ادراک داننده داد', 'value': 5}, {'key': 'نه ادراک در کنه ذاتش رسید\\t\\tنه فکرت به غور صفاتش رسید', 'value': 1}, {'key': 'به سمع رضا مشنو ایذای کس\\t\\tوگر گفته آید به غورش برس', 'value': 1}, {'key': 'در ارکان دولت نگه کرد شاه\\t\\tکز این خوبتر لفظ و معنی مخواه', 'value': 1}, {'key': 'بد اندیش را لفظ شیرین مبین\\t\\tکه ممکن بود زهر در انگبین', 'value': 1}, {'key': 'چو بسم الله آغاز کردند جمع\\t\\tنیامد ز پیرش حدیثی به سمع', 'value': 1}, {'key': 'همی گفت و گریان بر احوال طی\\t\\tبه سمع رسول آمد آواز وی', 'value': 1}, {'key': 'چنین دارم از پیر داننده یاد\\t\\tکه شوریده\\u200cای سر به صحرا نهاد', 'value': 1}, {'key': 'زبان کرد شخصی به غیبت دراز\\t\\tبدو گفت داننده\\u200cای سرفراز', 'value': 1}, {'key': 'در این شهر باری به سمعم رسید\\t\\tکه بازارگانی غلامی خرید', 'value': 1}]\n",
            "[{'key': 'عسل دادت از نحل و من از هوا\\t\\tرطب دادت از نخل و نخل از نوی', 'value': 7}, {'key': 'تن کارکن می\\u200cبلرزد ز تب\\t\\tمبادا که نخلش نیارد رطب', 'value': 2}, {'key': 'ز روشن دلش ملک پرتو گرفت\\t\\tوزیر کهن را غم نو گرفت', 'value': 1}, {'key': 'رطب ناورد چوب خرزهره بار\\t\\tچو تخم افکنی، بر همان چشم دار', 'value': 1}, {'key': 'الا تا به غفلت نخفتی که نوم\\t\\tحرام است بر چشم سالار قوم', 'value': 1}, {'key': 'هوا بینی از گرد هیجا چو میغ\\t\\tبگیرند گردت به زوبین و تیغ', 'value': 1}, {'key': 'نو آموز را ریسمان کن دراز\\t\\tنه بگسل که دیگر نبینیش باز', 'value': 1}, {'key': 'نه دینار دادش سیه دل نه دانگ\\t\\tبر او زد به سر باری از طیره بانگ', 'value': 1}, {'key': 'سماطی بیفکند و اسبی بکشت\\t\\tبه دامن شکر دادشان زر به مشت', 'value': 1}, {'key': 'غم جمله خور در هوای یکی\\t\\tمراعات صد کن برای یکی', 'value': 1}]\n",
            "[{'key': 'سر آنگه به بالین نهد هوشمند\\t\\tکه خوابش به قهر آورد در کمند', 'value': 7}, {'key': 'تواضع کند هوشمند گزین\\t\\tنهد شاخ پر میوه سر بر زمین', 'value': 2}, {'key': 'فروتن بود هوشمند گزین\\t\\tنهد شاخ پر میوه سر بر زمین', 'value': 2}, {'key': 'شنیدم که سحرگاهی با تنی چند خاصان به بالین قاضی فراز آمد. شمع را دید ایستاده و شاهد نشسته و می ریخته و قدح شکسته و قاضی در خواب مستی بی خبر از ملک هستی.', 'value': 2}, {'key': 'چه سود از دزدی آنگه توبه کردن\\t\\tکه نتوانی کمند انداخت بر کاخ', 'value': 2}, {'key': 'اگر بر جفاپیشه بشتافتی\\t\\tکه از دست قهرش امان یافتی؟', 'value': 1}, {'key': 'نهد لعل و پیروزه در صلب سنگ\\t\\tگل و لعل در شاخ پیروزه\\u200cرنگ', 'value': 1}, {'key': 'به دانش بزرگ و به همت بلند\\t\\tبه بازو دلیر و به دل هوشمند', 'value': 1}, {'key': 'دگر کشور آباد بیند به خواب\\t\\tکه دارد دل اهل کشور خراب', 'value': 1}, {'key': 'کی آن جا دگر هوشمندان روند\\t\\tچو آوازهٔ رسم بد بشنوند؟', 'value': 1}]\n",
            "[{'key': 'هر آن سری که در سر داری با دوست در میان منه چه دانی که وقتی دشمن گردد و هر گزندی که توانی، به دشمن مرسان که باشد که وقتی دوست شود.', 'value': 5}, {'key': 'ادیم زمین، سفرهٔ عام اوست\\t\\tبر این خوان یغما چه دشمن چه دوست', 'value': 2}, {'key': 'غم از دشمن ناپسندش مباد\\t\\tوز اندیشه بر دل گزندش مباد', 'value': 2}, {'key': 'محال است چون دوست دارد تو را\\t\\tکه در دست دشمن گذارد تو را', 'value': 2}, {'key': 'ز بیگانه پرهیز کردن نکوست\\t\\tکه دشمن توان بود در زی دوست', 'value': 2}, {'key': 'کنون تا یقینت نگردد گناه\\t\\tبه گفتار دشمن گزندش مخواه', 'value': 2}, {'key': 'نه تدبیر محمود و رای نکوست\\t\\tکه دشمن نداند شهنشه ز دوست', 'value': 2}, {'key': 'مرا با تو دانی سر دوستی است\\t\\tتو را دشمنی با من از بهر چیست؟', 'value': 2}, {'key': 'چرا دوست دارم به باطل منت\\t\\tچو دانم که دارد خدا دشمنت؟', 'value': 2}, {'key': 'خدادوست را گر بدرند پوست\\t\\tنخواهد شدن دشمن دوست، دوست', 'value': 2}]\n",
            "[{'key': 'هارون الرشید را چون ملک دیار مصر مسلم شد گفت: به خلاف آن طاغی که به غرور ملک مصر دعوی خدایی کرد نبخشم این مملکت را مگر به خسیس\\u200cترین بندگان.', 'value': 15}, {'key': 'اسکندر رومی را پرسیدند: دیار مشرق و مغرب به چه گرفتی که ملوک پیشین را خزاین و عمر و ملک و لشکر بیش از این بوده است ایشان را چنین فتحی میسر نشده. گفتا: به عون خدای عزّوجل هر مملکتی را که گرفتم رعیتش نیازردم و نام پادشاهان جز به نکویی نبردم.', 'value': 4}, {'key': 'دهقان پسری یافتند بر آن صورت که حکیمان گفته بودند، پدرش را و مادرش را بخواند و به نعمت بیکران خشنود گردانیدند و قاضی فتوی داد که خون یکی از رعیت ریختن سلامت پادشه را روا باشد. جلاد قصد کرد، پسر سر سوی آسمان بر آورد و تبسم کرد. ملک پرسیدش که در این حالت چه جای خندیدن است؟ گفت: ناز فرزندان بر پدران و مادران باشد و دعوی پیش قاضی برند و داد از پادشه خواهند. اکنون پدر و مادر به علّت حطام دنیا مرا به خون در سپردند و قاضی به کشتن فتوی داد و سلطان مصالح خویش اندر هلاک من همی\\u200cبیند، به جز خدای عزّوجل پناهی نمی\\u200cبینم.', 'value': 3}, {'key': 'ز جرمم در این مملکت جاه نیست\\t\\tولیکن به ملکی دگر راه نیست', 'value': 2}, {'key': 'دیگر عروس فکر من از بی جمالی سر بر نیارد و دیدهٔ یأس از پشت پای خجالت بر ندارد و در زمرهٔ صاحبدلان متجلی نشود مگر آن گه که متحلّی گردد به زیور قبول امیر کبیر عالم عادل مؤید مظفر منصور ظهیر سریر سلطنت و مشیر تدبیر مملکت کهف الفقرا ملاذُ الغربا مربّی الفضلا محبُّ الاتقیا افتخار آل فارس یمینُ الملک ملک الخواص فخر الدولة والدین غیاث الاسلام و المسلمین عمدةُ الملوکِ و السلاطین ابوبکر بنُ ابی نصر اطال الله عمرَه و اجل قدرَه و شرَح صدرَه و ضاعَف اجرَه که ممدوح اکابر آفاق است و مجموع مکارم اخلاق.', 'value': 2}, {'key': 'این بگفت و طایفه ای از ندمای ملک با وی به شفاعت یار شدند تا ملک از سر خون او در گذشت و گفت: بخشیدم اگر چه مصلحت ندیدم.', 'value': 2}, {'key': 'باری به مجلس او در کتاب شاهنامه همی\\u200cخواندند در زوال مملکت ضحّاک و عهد فریدون وزیر ملک را پرسید هیچ توان دانستن که فریدون که گنج و ملک و حشم نداشت چگونه برو مملکت مقرر شد گفت آن چنان که شنیدی خلقی برو به تعصب گرد آمدند و تقویت کردند و پادشاهی یافت گفت ای ملک چو گرد آمدن خلقی موجب پادشاهیست تو مر خلق را پریشان برای چه می\\u200cکنی مگر سر پادشاهی کردن نداری', 'value': 2}, {'key': 'یکی از ملوک عرب رنجور بود در حالت پیری و امید زندگانی قطع کرده که سواری از در درآمد و بشارت داد که فلان قلعه را به دولت خداوند گشادیم و دشمنان اسیر آمدند و سپاه و رعیت آن طرف بجملگی مطیع فرمان گشتند ملک نفسی سرد بر آورد و گفت این مژده مرا نیست دشمنانم راست یعنی وارثان مملکت.', 'value': 2}, {'key': 'در حالتی که ملک را پروای او نبود حال بگفتند به هم بر آمد و روی از او در هم کشید و از اینجا گفته\\u200cاند اصحاب فطنت و خبرت که از حِدّت و سَورت پادشاهان بر حذر باید بودن که غالب همت ایشان به معظمات امور مملکت متعلق باشد و تحمل ازدحام عوام نکند.', 'value': 2}, {'key': 'ملک گفتا هر آینه ما را خردمندی کافی باید که تدبیر مملکت را بشاید گفت ای ملک نشان خردمند کافی جز آن نیست که به چنین کارها تن ندهد.', 'value': 2}]\n",
            "[{'key': 'روزگاری برآمد که اتفاق ملاقات نیوفتاد. بعد از آن دیدمش زن خواسته و فرزندان خاسته و بیخ نشاطش بریده و گل هوس پژمریده.', 'value': 14}, {'key': 'اما صاحب دنیا به عین عنایت حق ملحوظ است و به حلال از حرام محفوظ. من همانا که تقریر این سخن نکردم و برهان بیان نیاوردم، انصاف از تو توقع دارم هرگز دیده\\u200cای دست دعایی بر کتف بسته یا بینوایی به زندان در نشسته یا پردهٔ معصومی دریده یا کفی از معصم بریده، الا به علت درویشی؟ شیرمردان را به حکم ضرورت در نقبها گرفته\\u200cاند و کعبها سفته و محتمل است آن که یکی را از درویشان نفس اماره طلب کند، چو قوت احصانش نباشد، به عصیان مبتلا گردد که بطن و فرج توأمند، یعنی فرزند یک شکمند: مادام که این یکی برجای است، آن دگر بر پای است. شنیدم که درویشی را با حدثی بر خبثی گرفتند. با آن که شرمساری برد، بیم سنگساری بود. گفت: ای مسلمانان قوت ندارم که زن کنم و طاقت نه که صبر کنم چه کنم؟ لا رهبانیة فی الاسلام. وز جمله مواجب سکون و جمعیت درون که مر توانگر را میسر می\\u200cشود یکی آن که هر شب صنمی در بر گیرد که هر روز بدو جوانی از سر گیرد صبح تابان را دست از صباحت او بر دل و سرو خرامان را پای از خجالت او در گل.', 'value': 4}, {'key': 'مگر روزگاری هوس راندمی\\t\\tز خود گرد محنت بیفشاندمی', 'value': 2}, {'key': 'تو با خود ببر توشه خویشتن\\t\\tکه شفقت نیاید ز فرزند و زن', 'value': 2}, {'key': 'نشاید هوس باختن با گلی\\t\\tکه هر بامدادش بود بلبلی', 'value': 2}, {'key': 'زن خوب خوش خوی آراسته\\t\\tچه ماند به نادان نو خاسته؟', 'value': 2}, {'key': 'وگر زن کند گوید از دست دل\\t\\tبه گردن در افتاد چون خر به گل', 'value': 2}, {'key': 'دریغا که بی ما بسی روزگار\\t\\tبروید گل و بشکفد نوبهار', 'value': 2}, {'key': 'بامدادان که خاطر باز آمدن بر رای نشستن غالب آمد دیدمش دامنی گل و ریحان و سنبل و ضیمران فراهم آورده و رغبت شهر کرده. گفتم: گل بستان را چنان که دانی بقایی و عهد گلستان را وفایی نباشد و حکما گفته\\u200cاند هر چه نپاید دلبستگی را نشاید. گفتا: طریق چیست؟ گفتم: برای نزهت ناظران و فسحت حاضران کتاب گلستان توانم تصنیف کردن که باد خزان را بر ورق او دست تطاول نباشد و گردش زمان عیش ربیعش را به طیش خریف مبدل نکند.', 'value': 2}, {'key': 'حالی که من این بگفتم دامن گل بریخت و در دامنم آویخت که الکریم اذا وعدَ وفا. فصلی در همان روز اتفاق بیاض افتاد در حسن معاشرت و آداب محاورت در لباسی که متکلمان را به کار آید و مترسّلان را بلاغت بیفزاید. فی الجمله هنوز از گل بستان بقیّتی موجود بود که کتاب گلستان تمام شد.', 'value': 2}]\n",
            "[{'key': 'فرشته خوی شود آدمی به کم خوردن\\t\\tوگر خورد چو بهایم بیوفتد چو جماد', 'value': 8}, {'key': 'ز فرخنده خویی نخوردی بگاه\\t\\tمگر بینوایی در آید ز راه', 'value': 2}, {'key': 'به کم کردن از عادت خویش خورد\\t\\tتوان خویشتن را ملک خوی کرد', 'value': 2}, {'key': 'نخست آدمی سیرتی پیشه کن\\t\\tپس آن گه ملک خویی اندیشه کن', 'value': 2}, {'key': 'نه مسواک در روزه گفتی خطاست\\t\\tبنی آدم مرده خوردن رواست؟', 'value': 2}, {'key': 'من آدمی به چنین شکل و خوی و قد و روش\\t\\tندیده\\u200cام مگر این شیوه از پری آموخت', 'value': 2}, {'key': 'بفرمودش تا حاضر آوردند و ملامت کردن گرفت که: در شرف نفس انسان چه خلل دیدی که خوی بهایم گرفتی و ترک عشرت مردم گفتی؟', 'value': 2}, {'key': 'از دست تو مشت بر دهان خوردن\\t\\tخوشتر که به دست خویش نان خوردن', 'value': 2}, {'key': 'ده آدمی بر سفره\\u200cای بخورند و دو سگ بر مرداری با هم به سر نبرند. حریص با جهانی گرسنه است و قانع به نانی سیر. حکما گفته\\u200cاند: توانگری به قناعت، به از توانگری به بضاعت.', 'value': 2}, {'key': 'فرشته\\u200cای که وکیل است بر خزاین باد\\t\\tچه غم خورد که بمیرد چراغ پیرزنی', 'value': 2}]\n"
          ]
        }
      ],
      "source": [
        "test_model(boolean_model, 'boolean')"
      ]
    },
    {
      "cell_type": "markdown",
      "id": "0b7ca375-61dd-4084-a6b2-020fa0585ac5",
      "metadata": {
        "id": "0b7ca375-61dd-4084-a6b2-020fa0585ac5"
      },
      "source": [
        "MRR for this test: 0.9316"
      ]
    },
    {
      "cell_type": "markdown",
      "id": "DJ0LvbpwyBVW",
      "metadata": {
        "id": "DJ0LvbpwyBVW"
      },
      "source": [
        "# TF-IDF"
      ]
    },
    {
      "cell_type": "code",
      "execution_count": null,
      "id": "Vq1uieuTvUKN",
      "metadata": {
        "id": "Vq1uieuTvUKN"
      },
      "outputs": [],
      "source": [
        "from sklearn.feature_extraction.text import CountVectorizer\n",
        "from sklearn.feature_extraction.text import TfidfTransformer\n",
        "from sklearn.metrics.pairwise import cosine_similarity\n",
        "import itertools\n",
        "\n",
        "\n",
        "class TFIDFModel:\n",
        "    def __init__(self, database, preprocessor):\n",
        "        self.database = database\n",
        "        self.preprocessor = preprocessor\n",
        "        self.normal_couplets = get_couplets(self.preprocessor.fit(database, tokenize=False))\n",
        "\n",
        "    \n",
        "    def fit(self):\n",
        "        self.cv = CountVectorizer()\n",
        "        doc_term = self.cv.fit_transform(self.normal_couplets)\n",
        "        \n",
        "        idfs = TfidfTransformer()\n",
        "        idfs.fit(doc_term)\n",
        "        self.tf_idfs = idfs.transform(doc_term)\n",
        "\n",
        "\n",
        "    def search(self, query, method='couplet', k=10):\n",
        "        query = [self.preprocessor.transform(query, tokenize=False)]\n",
        "        query_term = self.cv.transform(query)\n",
        "        similarity = cosine_similarity(self.tf_idfs, query_term)\n",
        "\n",
        "        all_couplets = get_couplets(self.database)\n",
        "        results = list(itertools.chain.from_iterable(similarity))\n",
        "        indices = sorted(range(len(results)), key=lambda i: results[i], reverse=True)[:k]\n",
        "        dic =[]\n",
        "        for i in indices:\n",
        "            dic.append({\"key\": all_couplets[i], \"value\": results[i]})\n",
        "\n",
        "        return dic"
      ]
    },
    {
      "cell_type": "code",
      "execution_count": null,
      "id": "XKsMS8wzxcgD",
      "metadata": {
        "id": "XKsMS8wzxcgD"
      },
      "outputs": [],
      "source": [
        "tfidf_model = TFIDFModel(data, preprocessor)\n",
        "tfidf_model.fit()"
      ]
    },
    {
      "cell_type": "markdown",
      "id": "Ha8RFE767Yst",
      "metadata": {
        "id": "Ha8RFE767Yst"
      },
      "source": [
        "### TF-IDF Testing\n"
      ]
    },
    {
      "cell_type": "code",
      "execution_count": null,
      "id": "qr6x2eu37hzX",
      "metadata": {
        "colab": {
          "base_uri": "https://localhost:8080/"
        },
        "id": "qr6x2eu37hzX",
        "outputId": "ea488b14-d172-4d49-f844-0677acab9e33"
      },
      "outputs": [
        {
          "data": {
            "text/plain": [
              "[{'key': 'دلم خانهٔ مهر یار است و بس\\t\\tاز آن می\\u200cنگنجد در او کین کس',\n",
              "  'value': 0.9878470873757951},\n",
              " {'key': 'زرش داد و اسب و قبا پوستین\\t\\tچه نیکو بود مهر در وقت کین',\n",
              "  'value': 0.3338621953720987},\n",
              " {'key': 'که گردد درونش به کین تو ریش\\t\\tچو یاد آیدش مهر پیوند خویش',\n",
              "  'value': 0.33358754735404306},\n",
              " {'key': 'فرستاده را داد مهری درم\\t\\tکه مهر است بر نام حاتم کرم',\n",
              "  'value': 0.3133654293690166},\n",
              " {'key': 'خرابت کند شاهد خانه کن\\t\\tبرو خانه آباد گردان به زن',\n",
              "  'value': 0.28767540043785017},\n",
              " {'key': 'یکی از لوازم صحبت آن است که خانه بپردازی یا با خانه خدای در سازی.',\n",
              "  'value': 0.25674008165603646},\n",
              " {'key': 'کز او داد مظلوم مسکین او\\t\\tبخواهند و از دیگران کین او',\n",
              "  'value': 0.2532078240723843},\n",
              " {'key': 'چو بینی که یاران نباشند یار\\t\\tهزیمت ز میدان غنیمت شمار',\n",
              "  'value': 0.22940066724499325},\n",
              " {'key': 'نه آن می\\u200cکند یار در شاهدی\\t\\tکه با او توان گفتن از زاهدی',\n",
              "  'value': 0.21742898915360373},\n",
              " {'key': 'یکی گفتا: چگونه\\u200cای در مفارقت یار عزیز؟',\n",
              "  'value': 0.2088814524953441}]"
            ]
          },
          "execution_count": 56,
          "metadata": {},
          "output_type": "execute_result"
        }
      ],
      "source": [
        "query = 'دلم خانه‌ی مهر یار است و بس از آن می‌نگنجد در او کین کس'\n",
        "tfidf_model.search(query)"
      ]
    },
    {
      "cell_type": "code",
      "execution_count": null,
      "id": "Ns-4QyY8YnLy",
      "metadata": {
        "colab": {
          "base_uri": "https://localhost:8080/"
        },
        "id": "Ns-4QyY8YnLy",
        "outputId": "d71356a0-51df-4426-d36d-2a9e5bf9dc56"
      },
      "outputs": [
        {
          "name": "stdout",
          "output_type": "stream",
          "text": [
            "[{'key': 'بر سلامت حالش شادمانی کرد و از هر دری سخن گفتند تا ملک به انجام سخن گفت: چنین که من این هر دو طایفه را دوست دارم در جهان کس ندارد یکی علما و دیگر زهاد را.', 'value': 0.3046359197677323}, {'key': 'بسیج ِ سخن گفتن آنگاه کن\\t\\tکه دانی که در کار گیرد سخُن', 'value': 0.2981004720289609}, {'key': 'سخن را سر است اى خردمند و بن\\t\\tمیاور سخن در میان سخن', 'value': 0.29560937712607077}, {'key': 'سوم باب عشق است و مستی و شور\\t\\tنه عشقی که بندند بر خود بزور', 'value': 0.2779499225971604}, {'key': 'سخنهای دانای شیرین سخن\\t\\tگرفت اندر آن هر دو شمشاد بن', 'value': 0.2575933548834544}, {'key': 'سخن ماند از عاقلان یادگار\\t\\tز سعدی همین یک سخن یاد دار', 'value': 0.24185066100861585}, {'key': 'تو که در بند خویشتن باشی\\t\\tعشق باز دروغ زن باشی', 'value': 0.24182026522259759}, {'key': 'اگر مرد عشقی کم خویش گیر\\t\\tو گر نه ره عافیت پیش گیر', 'value': 0.23397951904374173}, {'key': 'تقصیر و تقاعدی که در مواظبت خدمت بارگاه خداوندی می\\u200cرود بنا بر آن است که طایفه\\u200cای از حکماء هندوستان در فضایل بزرجمهر سخن می\\u200cگفتند، به آخر جز این عیبش ندانستند که در سخن گفتن بطیء است یعنی درنگ بسیار می\\u200cکند و مستمع را بسی منتظر باید بودن تا تقریر سخنی کند. بزرجمهر بشنید و گفت: اندیشه کردن که چه گویم به از پشیمانی خوردن که چرا گفتم.', 'value': 0.22972153346394975}, {'key': 'سخن آخر به دهان می\\u200cگذرد موذی را \\t\\tسخنش تلخ نخواهی دهنش شیرین کن', 'value': 0.2252452709984453}]\n",
            "[{'key': 'امید بسته بر آمد ولی چه فایده زانک \\t\\tامید نیست که عمر گذشته باز آید', 'value': 0.3681639043164497}, {'key': 'زرش داد و گوهر به شکر قدوم\\t\\tبپرسیدش از گوهر و زاد و بوم', 'value': 0.36424373639087565}, {'key': 'بخواست دخترکی خوبروی گوهر نام\\t\\tچو درج گوهرش از چشم مردمان بنهفت', 'value': 0.3330104660975392}, {'key': 'چون بود اصل گوهری قابل\\t\\tتربیت را در او اثر باشد', 'value': 0.32003682119793225}, {'key': 'همان به گر آبستن گوهری\\t\\tکه همچون صدف سر به خود در بری', 'value': 0.27679459554606356}, {'key': 'چو نومید ماند از همه چیز و کس\\t\\tامیدش به فضل خدا ماند و بس', 'value': 0.269494522979916}, {'key': 'اگر نفع کس در نهاد تو نیست\\t\\tچنین گوهر و سنگ خارا یکی است', 'value': 0.26010897689124035}, {'key': 'بدین امید به سر شد دریغ عمر عزیز \\t\\tکه آنچه در دلم است از درم فراز آید', 'value': 0.25786991807475396}, {'key': 'پدر گفتش اندر شب تیره رنگ\\t\\tچه دانی که گوهر کدام است و سنگ؟', 'value': 0.2545311081395364}, {'key': 'گر بی هنرم وگر هنرمند\\t\\tلطف است امیدم از خداوند', 'value': 0.2495219447602502}]\n",
            "[{'key': 'اتابک محمد شه نیکبخت\\t\\tخداوند تاج و خداوند تخت', 'value': 0.9857032012725351}, {'key': 'خداوند از آن بنده خرسند نیست\\t\\tکه راضی به قسم خداوند نیست', 'value': 0.3561606438676631}, {'key': 'بزرگان روشندل نیکبخت\\t\\tبه فرزانگی تاج بردند و تخت', 'value': 0.3288207763136335}, {'key': 'خداوندان کام و نیکبختی\\t\\tچرا سختی خورند از بیم سختی', 'value': 0.29336368642128724}, {'key': 'چو باز آمد از عیش و شادی به جای\\t\\tمرا دید و گفت ای خداوند رای', 'value': 0.2733430126946942}, {'key': 'بر آورد مرد جهاندیده دست\\t\\tچه گفت ای خداوند بالا و پست', 'value': 0.2631004231214369}, {'key': 'گر امروز بودی خداوند جاه\\t\\tنکردی خود از کبر در وی نگاه', 'value': 0.25702481379253617}, {'key': 'یکی را به سر برنهد تاج بخت\\t\\tیکی را به خاک اندر آرد ز تخت', 'value': 0.25554116126164406}, {'key': 'پس ای مرد پوینده بر راه راست\\t\\tتو را نیست منت، خداوند راست', 'value': 0.2542848850753975}, {'key': 'زورت ار پیش می\\u200cرود با ما \\t\\tبا خداوند غیب دان نرود', 'value': 0.25364226453810595}]\n",
            "[{'key': 'مرا لفظ شیرین خواننده داد\\t\\tتو را سمع و ادراک داننده داد', 'value': 0.9977838006079679}, {'key': 'چنین دارم از پیر داننده یاد\\t\\tکه شوریده\\u200cای سر به صحرا نهاد', 'value': 0.22833983022682863}, {'key': 'زبان کرد شخصی به غیبت دراز\\t\\tبدو گفت داننده\\u200cای سرفراز', 'value': 0.22157108487681093}, {'key': 'بد اندیش را لفظ شیرین مبین\\t\\tکه ممکن بود زهر در انگبین', 'value': 0.2166715058036764}, {'key': 'همی گفت و گریان بر احوال طی\\t\\tبه سمع رسول آمد آواز وی', 'value': 0.20192905307781367}, {'key': 'در این شهر باری به سمعم رسید\\t\\tکه بازارگانی غلامی خرید', 'value': 0.1951030653734015}, {'key': 'نه ادراک در کنه ذاتش رسید\\t\\tنه فکرت به غور صفاتش رسید', 'value': 0.18814685036798257}, {'key': 'روانت داد و طبع و عقل و ادراک\\t\\tجمال و نطق و رای و فکرت و هوش', 'value': 0.18725949903651998}, {'key': 'در ارکان دولت نگه کرد شاه\\t\\tکز این خوبتر لفظ و معنی مخواه', 'value': 0.18565427548235638}, {'key': 'چو بسم الله آغاز کردند جمع\\t\\tنیامد ز پیرش حدیثی به سمع', 'value': 0.17937080822154103}]\n",
            "[{'key': 'عسل دادت از نحل و من از هوا\\t\\tرطب دادت از نخل و نخل از نوی', 'value': 0.9889860695406452}, {'key': 'گفتند: فلان دشنام دادش.', 'value': 0.3501822408509077}, {'key': 'تن کارکن می\\u200cبلرزد ز تب\\t\\tمبادا که نخلش نیارد رطب', 'value': 0.30679411264159356}, {'key': 'ز گوش پنبه برون آر و داد خلق بده\\t\\tوگر تو می\\u200cندهی داد روز دادی هست', 'value': 0.2945296550191283}, {'key': 'به مردان راهت که راهی بده\\t\\tوز این دشمنانم پناهی بده', 'value': 0.2507773329619255}, {'key': 'ملک را گفت درویش استوار آمد. گفت: از من تمنا بکن. گفت: آن همی\\u200cخواهم که دگرباره زحمت من ندهی. گفت: مرا پندی بده. گفت:', 'value': 0.24303382971557255}, {'key': 'همه نخلبندان بخایند دست\\t\\tز حیرت که نخلی چنین کس نبست', 'value': 0.23162649642225558}, {'key': 'زر بده مرد سپاهی را تا سر بنهد \\t\\tو گرش زر ندهی سر بنهد در عالم', 'value': 0.2267750717145226}, {'key': 'پیش که بر آورم ز دستت فریاد \\t\\tهم پیش تو از دست تو گر خواهم داد', 'value': 0.2193539263444978}, {'key': 'به گردن در آتش در افتاده\\u200cای\\t\\tبه باد هوی عمر بر داده\\u200cای', 'value': 0.21884687006017348}]\n",
            "[{'key': 'سر آنگه به بالین نهد هوشمند\\t\\tکه خوابش به قهر آورد در کمند', 'value': 0.9959781836298998}, {'key': 'چون به بالینش فراز شدم این می\\u200cگفت:', 'value': 0.29005419540744387}, {'key': 'تواضع کند هوشمند گزین\\t\\tنهد شاخ پر میوه سر بر زمین', 'value': 0.2715376839933572}, {'key': 'فروتن بود هوشمند گزین\\t\\tنهد شاخ پر میوه سر بر زمین', 'value': 0.26090447802002015}, {'key': 'نه خوابش گرفتی شبان یک نفس\\t\\tنه از دست فریاد او خواب کس', 'value': 0.2605803698244921}, {'key': 'مرا همچو تو خواب خوش در سر است\\t\\tولیکن بیابان به پیش اندر است', 'value': 0.24972592652774217}, {'key': 'اگر سر نهد بر خطت سروری\\t\\tچو نیکش بداری، نهد دیگری', 'value': 0.24970913153724764}, {'key': 'چه سود از دزدی آنگه توبه کردن\\t\\tکه نتوانی کمند انداخت بر کاخ', 'value': 0.2272062823102508}, {'key': 'جوان از خواب مستی سر بر آورد و گفت:', 'value': 0.22417783142773307}, {'key': 'همه شب در این فکر بود و نخفت\\t\\tدگر روز با هوشمندان بگفت', 'value': 0.2122578362395767}]\n",
            "[{'key': 'هر آن سری که در سر داری با دوست در میان منه چه دانی که وقتی دشمن گردد و هر گزندی که توانی، به دشمن مرسان که باشد که وقتی دوست شود.', 'value': 0.9728924613727167}, {'key': 'مرا با تو دانی سر دوستی است\\t\\tتو را دشمنی با من از بهر چیست؟', 'value': 0.8524344039500344}, {'key': 'بود دشمنش تازه و دوست ریش\\t\\tکسی کش بود دشمن از دوست بیش', 'value': 0.736836402641355}, {'key': 'به نرمی ز دشمن توان کرد دوست\\t\\tچو با دوست سختی کنی دشمن اوست', 'value': 0.6979183516600598}, {'key': 'من اینک دم دوستی می\\u200cزنم\\t\\tگر او دوست دارد وگر دشمنم', 'value': 0.6562622352084154}, {'key': 'کسی قول دشمن نیارد به دوست\\t\\tجز آن کس که در دشمنی یار اوست', 'value': 0.5551352233308411}, {'key': 'چو دشمن به دشمن بود مشتغل\\t\\tتو با دوست بنشین به آرام دل', 'value': 0.543443835305065}, {'key': 'بر این گفتم آن دوست دشمن گرفت\\t\\tچو آتش شد از خشم و در من گرفت', 'value': 0.5394202345186032}, {'key': 'بباید چنین دشمنی دوست داشت\\t\\tکه می\\u200cدانمش دوست بر من گماشت', 'value': 0.4898986986835768}, {'key': 'نظر دوست نادر کند سوی تو\\t\\tچو در روی دشمن بود روی تو', 'value': 0.4883339347692135}]\n",
            "[{'key': 'هارون الرشید را چون ملک دیار مصر مسلم شد گفت: به خلاف آن طاغی که به غرور ملک مصر دعوی خدایی کرد نبخشم این مملکت را مگر به خسیس\\u200cترین بندگان.', 'value': 0.9808675683553278}, {'key': 'ور وزیر از خدا بترسیدی \\t\\tهمچنان کز ملک، ملک بودی', 'value': 0.32267429002388326}, {'key': 'این بگفت و طایفه ای از ندمای ملک با وی به شفاعت یار شدند تا ملک از سر خون او در گذشت و گفت: بخشیدم اگر چه مصلحت ندیدم.', 'value': 0.2918296709589976}, {'key': 'خواهی که خدای بر تو بخشد \\t\\tبا خلق خدای کن نکویی', 'value': 0.28342528011727053}, {'key': 'بر سر ملک مباد آن ملک فرمانده\\t\\tکه خدا را نبود بندهٔ فرمانبردار', 'value': 0.274033496898662}, {'key': 'ز جرمم در این مملکت جاه نیست\\t\\tولیکن به ملکی دگر راه نیست', 'value': 0.27061753427338453}, {'key': 'نگویم بزرگی و جاهم ببخش\\t\\tفروماندگی و گناهم ببخش', 'value': 0.23226318669168305}, {'key': 'که در مصر چون من عزیزی نبود\\t\\tچو حاصل همین بود چیزی نبود', 'value': 0.232250776994517}, {'key': 'هر که بر خویشتن نبخشاید\\t\\tگر نبخشد کسی بر او شاید', 'value': 0.22371355536489465}, {'key': 'ندیمی زمین ملک بوسه داد\\t\\tکه ملک خداوند جاوید باد', 'value': 0.21515295986318878}]\n",
            "[{'key': 'روزگاری برآمد که اتفاق ملاقات نیوفتاد. بعد از آن دیدمش زن خواسته و فرزندان خاسته و بیخ نشاطش بریده و گل هوس پژمریده.', 'value': 0.9315002931331992}, {'key': 'که من گر گلی بر وجودت زنم\\t\\tبه نزدیک مردان نه مردم، زنم', 'value': 0.21785744915519056}, {'key': 'زن خوب خوش خوی آراسته\\t\\tچه ماند به نادان نو خاسته؟', 'value': 0.2126550948024262}, {'key': 'جوانمرد و صاحب خرد دیدمش\\t\\tبه مردانگی فوق خود دیدمش', 'value': 0.20795351951456345}, {'key': 'چو زن راه بازار گیرد بزن\\t\\tوگرنه تو در خانه بنشین چو زن', 'value': 0.19846961769674046}, {'key': 'مکن بد به فرزند مردم نگاه\\t\\tکه فرزند خویشت برآید تباه', 'value': 0.19755350088574955}, {'key': 'مگر روزگاری هوس راندمی\\t\\tز خود گرد محنت بیفشاندمی', 'value': 0.1931143946680321}, {'key': 'به زاری به شمشیر زن گفت زن\\t\\tمرا نیز با جمله گردن بزن', 'value': 0.19214769553092875}, {'key': 'وگر زن کند گوید از دست دل\\t\\tبه گردن در افتاد چون خر به گل', 'value': 0.18862091170661488}, {'key': 'تو دست از وی و روزگارش بدار\\t\\tکه خود زیر دستش کند روزگار', 'value': 0.18834767277342274}]\n",
            "[{'key': 'فرشته خوی شود آدمی به کم خوردن\\t\\tوگر خورد چو بهایم بیوفتد چو جماد', 'value': 0.970221303644303}, {'key': 'به کم کردن از عادت خویش خورد\\t\\tتوان خویشتن را ملک خوی کرد', 'value': 0.3983318769744052}, {'key': 'از دست تو مشت بر دهان خوردن\\t\\tخوشتر که به دست خویش نان خوردن', 'value': 0.34333407614889483}, {'key': 'پس از بردن و گرد کردن چو مور\\t\\tبخور پیش از آن که\\u200cت خورد کرم گور', 'value': 0.338648451208972}, {'key': 'توانگر خود آن لقمه چون می\\u200cخورد\\t\\tچو بیند که درویش خون می\\u200cخورد؟', 'value': 0.3298249990771551}, {'key': 'نه هر بار خرما توان خورد و برد\\t\\tلت انبان بد عاقبت خورد و مرد', 'value': 0.3124511533039771}, {'key': 'ز فرخنده خویی نخوردی بگاه\\t\\tمگر بینوایی در آید ز راه', 'value': 0.30477742931794044}, {'key': 'هر آن کس که فرزند را غم نخورد\\t\\tدگر کس غمش خورد و بدنام کرد', 'value': 0.30350750871524074}, {'key': 'که مرهم نهادم نه در خورد ریش\\t\\tکه در خورد انعام و اکرام خویش', 'value': 0.30061081780253635}, {'key': 'بخور ای نیک سیرت سره مرد\\t\\tکان نگون بخت گرد کرد و نخورد', 'value': 0.2964145706296052}]\n"
          ]
        }
      ],
      "source": [
        "test_model(tfidf_model, 'tfidf')"
      ]
    },
    {
      "cell_type": "markdown",
      "id": "b1acaddf-d71c-409a-b19b-52befa7e2b20",
      "metadata": {
        "id": "b1acaddf-d71c-409a-b19b-52befa7e2b20"
      },
      "source": [
        "MRR for this test: 0.9444"
      ]
    },
    {
      "cell_type": "markdown",
      "id": "CkLg6RdT9dgk",
      "metadata": {
        "id": "CkLg6RdT9dgk"
      },
      "source": [
        "# Transformer"
      ]
    },
    {
      "cell_type": "code",
      "execution_count": null,
      "id": "N0Bz4aijEEHo",
      "metadata": {
        "id": "N0Bz4aijEEHo"
      },
      "outputs": [],
      "source": [
        "!pip install -U sentence-transformers"
      ]
    },
    {
      "cell_type": "code",
      "execution_count": null,
      "id": "KNpaWDBKtpRk",
      "metadata": {
        "id": "KNpaWDBKtpRk"
      },
      "outputs": [],
      "source": [
        "from sentence_transformers import SentenceTransformer\n",
        "from sentence_transformers import models\n",
        "from sentence_transformers import util\n",
        "import numpy as np\n",
        "import torch"
      ]
    },
    {
      "cell_type": "code",
      "execution_count": null,
      "id": "-1oK5qv69gfa",
      "metadata": {
        "id": "-1oK5qv69gfa"
      },
      "outputs": [],
      "source": [
        "class ParsTransformer:\n",
        "    def __init__(self, database, preprocessor, device):\n",
        "        self.database = database\n",
        "        self.norm_data = preprocessor.fit(database, tokenize=False)\n",
        "        self.preprocessor = preprocessor\n",
        "        self.device = device\n",
        "\n",
        "    \n",
        "    def fit(self):\n",
        "        word_embedding_model = models.Transformer('HooshvareLab/bert-fa-zwnj-base', max_seq_length=256)\n",
        "        pooling_model = models.Pooling(word_embedding_model.get_word_embedding_dimension())\n",
        "\n",
        "        self.model = SentenceTransformer(modules=[word_embedding_model, pooling_model], device=self.device)\n",
        "\n",
        "        couplets = get_couplets(self.norm_data)\n",
        "        self.encodes = self.model.encode(couplets)\n",
        "\n",
        "    \n",
        "    def search(self, query, method='couplet', k=10):\n",
        "        query = self.preprocessor.transform(query, tokenize=False)\n",
        "        \n",
        "        q_encode = self.model.encode(query)\n",
        "\n",
        "        similarity = util.cos_sim(q_encode, self.encodes).numpy()[0]\n",
        "        indices = np.argsort(similarity)[::-1][:k]\n",
        "\n",
        "        result = []\n",
        "        raw_couplets = get_couplets(self.database)\n",
        "        for idx in indices:\n",
        "            result.append({'key': raw_couplets[idx], 'value': similarity[idx]})\n",
        "        \n",
        "        return result"
      ]
    },
    {
      "cell_type": "code",
      "execution_count": null,
      "id": "-IQGlpPpEUsA",
      "metadata": {
        "colab": {
          "base_uri": "https://localhost:8080/"
        },
        "id": "-IQGlpPpEUsA",
        "outputId": "8262f485-5a52-4dfc-ff59-63f7ad8c7d2d"
      },
      "outputs": [
        {
          "name": "stderr",
          "output_type": "stream",
          "text": [
            "Some weights of the model checkpoint at HooshvareLab/bert-fa-zwnj-base were not used when initializing BertModel: ['cls.predictions.transform.LayerNorm.bias', 'cls.predictions.transform.LayerNorm.weight', 'cls.predictions.transform.dense.bias', 'cls.predictions.bias', 'cls.predictions.decoder.weight', 'cls.predictions.transform.dense.weight', 'cls.predictions.decoder.bias']\n",
            "- This IS expected if you are initializing BertModel from the checkpoint of a model trained on another task or with another architecture (e.g. initializing a BertForSequenceClassification model from a BertForPreTraining model).\n",
            "- This IS NOT expected if you are initializing BertModel from the checkpoint of a model that you expect to be exactly identical (initializing a BertForSequenceClassification model from a BertForSequenceClassification model).\n",
            "Some weights of BertModel were not initialized from the model checkpoint at HooshvareLab/bert-fa-zwnj-base and are newly initialized: ['bert.pooler.dense.bias', 'bert.pooler.dense.weight']\n",
            "You should probably TRAIN this model on a down-stream task to be able to use it for predictions and inference.\n"
          ]
        }
      ],
      "source": [
        "device = 'cuda' if torch.cuda.is_available() else 'cpu'\n",
        "\n",
        "transformer_model = ParsTransformer(data, preprocessor, device)\n",
        "transformer_model.fit()"
      ]
    },
    {
      "cell_type": "markdown",
      "id": "R7epArM1XnDR",
      "metadata": {
        "id": "R7epArM1XnDR"
      },
      "source": [
        "### Transformer Testing"
      ]
    },
    {
      "cell_type": "code",
      "execution_count": null,
      "id": "OSNy2g_GE2Fl",
      "metadata": {
        "colab": {
          "base_uri": "https://localhost:8080/"
        },
        "id": "OSNy2g_GE2Fl",
        "outputId": "6c03f1fb-364f-44d6-b92f-fda8186a9149"
      },
      "outputs": [
        {
          "data": {
            "text/plain": [
              "[{'key': 'دلم خانهٔ مهر یار است و بس\\t\\tاز آن می\\u200cنگنجد در او کین کس',\n",
              "  'value': 1.0000001},\n",
              " {'key': 'دو صاحبدل نگه دارند مویی\\t\\tهمیدون سرکشی و آزرم جویی',\n",
              "  'value': 0.7621424},\n",
              " {'key': 'بگفتا همی\\u200cگریم از روزگار\\t\\tکه طفلان بیچاره دارم چهار',\n",
              "  'value': 0.7602873},\n",
              " {'key': 'نشاید به دستان شدن در بهشت\\t\\tکه بازت رود چادر از روی زشت',\n",
              "  'value': 0.75739247},\n",
              " {'key': 'مگر دل نهادی به مردن ز پس\\t\\tکه بر می\\u200cنخیزی به بانگ جرس؟',\n",
              "  'value': 0.75179154},\n",
              " {'key': 'نیوشنده شد زین سخن تنگدل\\t\\tبه فکرت فرو رفت چون خر به گل',\n",
              "  'value': 0.74671483},\n",
              " {'key': 'چو بلبل، سرایان چو گل تازه روی\\t\\tز شوخی در افکنده غلغل به کوی',\n",
              "  'value': 0.7455336},\n",
              " {'key': 'اگر تنگدستی مرو پیش یار\\t\\tوگر سیم داری بیا و بیار',\n",
              "  'value': 0.7452309},\n",
              " {'key': 'پریشان شود گل به باد سحر\\t\\tنه هیزم که نشکافدش جز تبر',\n",
              "  'value': 0.74438655},\n",
              " {'key': 'رزی داشتم بر در خانه، گفت\\t\\tبه سایه درش نیکمردی بخفت',\n",
              "  'value': 0.7413236}]"
            ]
          },
          "execution_count": 61,
          "metadata": {},
          "output_type": "execute_result"
        }
      ],
      "source": [
        "query = 'دلم خانه‌ی مهر یار است و بس از آن می‌نگنجد در او کین کس'\n",
        "transformer_model.search(query)"
      ]
    },
    {
      "cell_type": "code",
      "execution_count": null,
      "id": "D_ltnwGyXDE-",
      "metadata": {
        "colab": {
          "base_uri": "https://localhost:8080/"
        },
        "id": "D_ltnwGyXDE-",
        "outputId": "cd5cfec5-3bdf-45c3-f8c8-40ae86a872ee"
      },
      "outputs": [
        {
          "name": "stdout",
          "output_type": "stream",
          "text": [
            "[{'key': 'شنید این سخن پیر فرخنده فال\\t\\tسخندان بود مرد دیرینه سال', 'value': 0.74390304}, {'key': 'چو مردم سخن گفت باید به هوش\\t\\tوگر نه شدن چون بهایم خموش', 'value': 0.73375636}, {'key': 'اگر چون زنان جست خواهی گریز\\t\\tمرو آب مردان جنگی مریز', 'value': 0.7316015}, {'key': 'گر چه دانی که نشنوند بگوی\\t\\tهر چه دانی ز نیکخواهی و پند', 'value': 0.73033625}, {'key': 'ای به ناموس کرده جامه سپید\\t\\tبهر پندار خلق و نامه سیاه', 'value': 0.722579}, {'key': 'سخن میان دو دشمن چنان گوی که گر دوست گردند شرم زده نشوی.', 'value': 0.7222427}, {'key': 'به بد گفتن خلق چون دم زدی\\t\\tاگر راست گویی سخن هم بدی', 'value': 0.71363235}, {'key': 'چنین گفت پیری پسندیده هوش\\t\\tخوش آید سخنهای پیران به گوش', 'value': 0.710756}, {'key': 'شنیدم که می\\u200cگفت و گردن به بند\\t\\tنباشد حذر با قدر سودمند', 'value': 0.7088059}, {'key': 'گر راست سخن گویی و در بند بمانی\\t\\tبه زآن که دروغت دهد از بند رهایی', 'value': 0.70848775}]\n",
            "[{'key': 'طلبکار خیر است امیدوار\\t\\tخدایا امیدی که دارد برآر', 'value': 0.7731704}, {'key': 'بسی بر سر خلق پاینده دار\\t\\tبه توفیق طاعت دلش زنده دار', 'value': 0.75199735}, {'key': 'به محشر که حاضر شوند انجمن\\t\\tخدایا تو با او مکن حشر من', 'value': 0.7518295}, {'key': 'جهانت به کام و فلک یار باد\\t\\tجهان آفرینت نگهدار باد', 'value': 0.7483429}, {'key': 'دعا گوی این دولتم بنده\\u200cوار\\t\\tخدایا تو این سایه پاینده دار', 'value': 0.7472533}, {'key': 'چه کردی که درنده رام تو شد\\t\\tنگین سعادت به نام تو شد؟', 'value': 0.74678695}, {'key': 'بهشت برین ملک و مأوای ماست\\t\\tکه بند غم امروز بر پای ماست', 'value': 0.74258476}, {'key': 'در این بود سر بر زمین فدا\\t\\tکه گفتند در گوش جانش ندا', 'value': 0.7377051}, {'key': 'اگر تنگدستی مرو پیش یار\\t\\tوگر سیم داری بیا و بیار', 'value': 0.7366868}, {'key': 'مرا رقتی در دل آمد بر این\\t\\tکه پاک است و خرم بهشت برین', 'value': 0.7303023}]\n",
            "[{'key': 'اتابک محمد شه نیکبخت\\t\\tخداوند تاج و خداوند تخت', 'value': 1.0000001}, {'key': 'به قدرت، نگهدار بالا و شیب\\t\\tخداوند دیوان روز حسیب', 'value': 0.7887163}, {'key': 'خدای خواست که بر عالمی ببخشاید\\t\\tتو را به رحمت خود پادشاه عالم کرد', 'value': 0.7859844}, {'key': 'سعدی ره کعبه رضا گیر\\t\\tای مرد خدا در خدا گیر', 'value': 0.76723254}, {'key': 'یکی هاتف از غیبش آواز داد\\t\\tکه ای نیکبخت مبارک نهاد', 'value': 0.76458776}, {'key': 'این حکم و غرور و خشم تا چند\\t\\tهست از تو بزرگتر خداوند', 'value': 0.7616321}, {'key': 'پس ای مرد پوینده بر راه راست\\t\\tتو را نیست منت، خداوند راست', 'value': 0.7575879}, {'key': 'وگر بر سرآید خداوند زور\\t\\tنه زیرش کند عاقبت خاک گور؟', 'value': 0.7574769}, {'key': 'بزرگان روشندل نیکبخت\\t\\tبه فرزانگی تاج بردند و تخت', 'value': 0.7486977}, {'key': 'چو بینی دعاگوی دولت هزار\\t\\tخداوند را شکر نعمت گزار', 'value': 0.7458363}]\n",
            "[{'key': 'مرا لفظ شیرین خواننده داد\\t\\tتو را سمع و ادراک داننده داد', 'value': 1.0000001}, {'key': 'نکو سیرتش دید و روشن قیاس\\t\\tسخن سنج و مقدار مردم شناس', 'value': 0.7278292}, {'key': 'که فعل فلان را بباید بیان\\t\\tوز این فعل بد می\\u200cبرآید عیان', 'value': 0.7062491}, {'key': 'فهم سخن چون نکند مستمع\\t\\tقوت طبع از متکلم مجوی', 'value': 0.7060418}, {'key': 'که سالوک این منزلم عن قریب\\t\\tبد از نیک کمتر شناسد غریب', 'value': 0.7033723}, {'key': 'به پرویزن معرفت بیخته\\t\\tبه شهد ظرافت برآمیخته', 'value': 0.7026638}, {'key': 'گروهی برآنند از اهل سخن\\t\\tکه حاتم اصم بود، باور مکن', 'value': 0.6977819}, {'key': 'ز روی گمان بر من اینها که بست\\t\\tمن از خود یقین می\\u200cشناسم که هست', 'value': 0.6973454}, {'key': 'فی الجمله زبان از مکالمهٔ او در کشیدن قوّت نداشتم و روی از محاورهٔ او گردانیدن مروّت ندانستم که یار موافق بود و ارادت صادق.', 'value': 0.69155896}, {'key': 'گرش دامن از چنگ شهوت رها\\t\\tکنی، رفت تا سدرةالمنتهی', 'value': 0.69061375}]\n",
            "[{'key': 'عسل دادت از نحل و من از هوا\\t\\tرطب دادت از نخل و نخل از نوی', 'value': 0.99999976}, {'key': 'چنان آسمان بر زمین شد بخیل\\t\\tکه لب تر نکردند زرع و نخیل', 'value': 0.77944016}, {'key': 'با فرومایه روزگار مبر \\t\\tکز نی بوریا شکر نخوری', 'value': 0.74867487}, {'key': 'یکی صوفیان بین که می خورده\\u200cاند\\t\\tمرقع به سیکی گرو کرده\\u200cاند', 'value': 0.7423704}, {'key': 'کریما به رزق تو پرورده\\u200cایم\\t\\tبه انعام و لطف تو خو کرده\\u200cایم', 'value': 0.7414702}, {'key': 'سماطی بیفکند و اسبی بکشت\\t\\tبه دامن شکر دادشان زر به مشت', 'value': 0.7387824}, {'key': 'سفر کردگان لاابالی زیند\\t\\tکه پروردهٔ ملک و دولت نیند', 'value': 0.7302415}, {'key': 'قضا نقش یوسف جمالی نکرد\\t\\tکه ماهی گورش چو یونس نخورد', 'value': 0.72672665}, {'key': 'قضا نقش یوسف جمالی نکرد\\t\\tکه ماهی گورش چو یونس نخورد', 'value': 0.72672665}, {'key': 'که هر گه که باز آید از خوی زشت\\t\\tبه عیشی رسد جاودان در بهشت', 'value': 0.72655606}]\n",
            "[{'key': 'سر آنگه به بالین نهد هوشمند\\t\\tکه خوابش به قهر آورد در کمند', 'value': 1.0000006}, {'key': 'تواضع کند هوشمند گزین\\t\\tنهد شاخ پر میوه سر بر زمین', 'value': 0.7112899}, {'key': 'باش تا دستش ببندد روزگار \\t\\tپس به کام دوستان مغزش بر آر', 'value': 0.7098985}, {'key': 'مروت نبینم رهایی ز بند\\t\\tبه تنها و یارانم اندر کمند', 'value': 0.70516795}, {'key': 'کنند ابره پاکیزه\\u200cتر ز آستر\\t\\tکه آن در حجاب است و این در نظر', 'value': 0.70308596}, {'key': 'فروتن بود هوشمند گزین\\t\\tنهد شاخ پر میوه سر بر زمین', 'value': 0.70272523}, {'key': 'گر او پیشدستی کند غم مدار\\t\\tور افراسیاب است مغزش بر آر', 'value': 0.6962262}, {'key': 'که گر باز کوبد در کارزار\\t\\tبر آرند عام از دماغش دمار', 'value': 0.69527245}, {'key': 'کنون باید ای خفته بیدار بود\\t\\tچو مرگ اندر آرد ز خوابت، چه سود؟', 'value': 0.69086474}, {'key': 'با گرسنگی قوت پرهیز نماند\\t\\tافلاس عنان از کف تقوی بستاند', 'value': 0.68575376}]\n",
            "[{'key': 'هر آن سری که در سر داری با دوست در میان منه چه دانی که وقتی دشمن گردد و هر گزندی که توانی، به دشمن مرسان که باشد که وقتی دوست شود.', 'value': 1.000001}, {'key': 'بود دشمنش تازه و دوست ریش\\t\\tکسی کش بود دشمن از دوست بیش', 'value': 0.8255583}, {'key': 'کسی قول دشمن نیارد به دوست\\t\\tجز آن کس که در دشمنی یار اوست', 'value': 0.82164824}, {'key': 'به نرمی ز دشمن توان کرد دوست\\t\\tچو با دوست سختی کنی دشمن اوست', 'value': 0.82057357}, {'key': 'کنون دشمنان گر برندم اسیر\\t\\tنباشد کس از دوستانم نصیر', 'value': 0.8050585}, {'key': 'ز دشمن جفا بردی از بهر دوست\\t\\tکه تریاک اکبر بود زهر دوست', 'value': 0.8009982}, {'key': 'من اینک دم دوستی می\\u200cزنم\\t\\tگر او دوست دارد وگر دشمنم', 'value': 0.7998148}, {'key': 'چو دشمن به دشمن بود مشتغل\\t\\tتو با دوست بنشین به آرام دل', 'value': 0.7947651}, {'key': 'نه دشمن برست از زبانش نه دوست\\t\\tنه سلطان که این بوم و بر زآن اوست', 'value': 0.787563}, {'key': 'ادیم زمین، سفرهٔ عام اوست\\t\\tبر این خوان یغما چه دشمن چه دوست', 'value': 0.7841698}]\n",
            "[{'key': 'هارون الرشید را چون ملک دیار مصر مسلم شد گفت: به خلاف آن طاغی که به غرور ملک مصر دعوی خدایی کرد نبخشم این مملکت را مگر به خسیس\\u200cترین بندگان.', 'value': 0.99999994}, {'key': 'قومی بر این نمط که شنیدی، و طایفه\\u200cای خوان نعمت نهاده و دست کرم گشاده، طالب نامند و معرفت و صاحب دنیا و آخرت، چون بندگان حضرت پادشاه عالم عادل مؤید مظفر منصور، مالک ازمّهٔ اَنام، حامی ثغور اسلام، وارث ملک سلیمان، اعدل ملوک زمان، مظفر الدنیا و الدین، اتابک ابی بکر سعد ادام الله ایامه و نصر اعلامه.', 'value': 0.83361256}, {'key': 'اسکندر رومی را پرسیدند: دیار مشرق و مغرب به چه گرفتی که ملوک پیشین را خزاین و عمر و ملک و لشکر بیش از این بوده است ایشان را چنین فتحی میسر نشده. گفتا: به عون خدای عزّوجل هر مملکتی را که گرفتم رعیتش نیازردم و نام پادشاهان جز به نکویی نبردم.', 'value': 0.81725734}, {'key': 'ملک روی از این سخن به هم آورد و مر او را زجر فرمود و گفت مرا خداوند تعالی مالک این مملکت گردانیده است تا بخورم و ببخشم نه پاسبان که نگاه دارم', 'value': 0.80414546}, {'key': 'نعمت بسیارش فرمود و اکرام کرد تا یکی از ندمای حضرت پادشاه که در آن سال از سفر دریا آمده بود گفت من او را عید اضحی در بصره دیدم! معلوم شد که حاجی نیست. دیگری گفتا پدرش نصرانی بود در ملطیه، پس او شریف چگونه صورت بندد؟!، و شعرش را به دیوان انوری در یافتند.', 'value': 0.8033313}, {'key': 'ملک را مضمون اشارت عابد معلوم گشت. فرمود تا وجه کفاف وی معین دارند و بار عیال از دل او بر خیزد.', 'value': 0.7915265}, {'key': 'ملک پرسید چه می\\u200cگوید؟ یکی از وزرای نیک محضر گفت: ای خداوند همی\\u200c گوید: وَ الْکاظِمینَ الغَیْظَ وَ الْعافِینَ عَنِ النّاسِ. ملک را رحمت آمد و از سر خون او در گذشت. وزیر دیگر که ضدّ او بود گفت: ابنای جنس ما را نشاید در حضرت پادشاهان جز به راستی سخن گفتن. این ملک را دشنام داد و ناسزا گفت. ملک روی از این سخن در هم آورد و گفت: آن دروغ وی پسندیده تر آمد مرا زین راست که تو گفتی که روی آن در مصلحتی بود و بنای این بر خبثی. و خردمندان گفته\\u200cاند: دروغی مصلحت آمیز به که راستی فتنه\\u200cانگیز.', 'value': 0.7884238}, {'key': 'الا به حکم آن که سوابق انعام خداوندی ملازم روزگار بندگان است مصلحتی که بینند و اعلام نکنند، نوعی از خیانت باشد. طریق صواب آن است که با این پسر گرد طمع نگردی و فرش ولع درنوردی که منصب قضا پایگاهی منیع است تا به گناهی شنیع ملوث نگردانی و حریف این است که دیدی و حدیث این که شنیدی.', 'value': 0.78754747}, {'key': 'ملک دانشمند را مؤاخذت کرد و معاتبت فرمود که وعده خلاف کردی و وفا به جا نیاوردی.', 'value': 0.7862855}, {'key': 'در خبر است از خواجهٔ عالم صلی الله علیه و سلم که گفت: بزرگترین حسرتی روز قیامت آن بود که یکی بندهٔ صالح را به بهشت برند و خواجهٔ فاسق را به دوزخ.', 'value': 0.78573775}]\n",
            "[{'key': 'روزگاری برآمد که اتفاق ملاقات نیوفتاد. بعد از آن دیدمش زن خواسته و فرزندان خاسته و بیخ نشاطش بریده و گل هوس پژمریده.', 'value': 0.9899862}, {'key': 'شب را به بوستان با یکی از دوستان اتفاق مبیت افتاد، موضعی خوش و خرّم و درختان در هم. گفتی که خردهٔ مینا بر خاکش ریخته و عقد ثریا از تارکش آویخته.', 'value': 0.78631335}, {'key': 'جوانی چست لطیف خندان شیرین زبان در حلقه عشرت ما بود که در دلش از هیچ نوعی غم نیامدی و لب از خنده فرا هم.', 'value': 0.76323783}, {'key': 'وقتی به جهل جوانی بانگ بر مادر زدم، دل آزرده به کنجی نشست و گریان همی\\u200cگفت: مگر خردی فراموش کردی که درشتی میکنی؟', 'value': 0.7604}, {'key': 'غم موجود و پریشانی معدوم ندارم\\t\\tنفسی می\\u200cزنم آسوده و عمری می\\u200cگذارم »', 'value': 0.7600966}, {'key': 'خوشا وقت شوریدگان غمش\\t\\tاگر زخم بینند و گر مرهمش', 'value': 0.75792986}, {'key': 'جوانی فرا رفت کای پیرمرد\\t\\tچه در کنج حسرت نشینی به درد؟', 'value': 0.75558054}, {'key': 'دو کس را حسرت از دل نرود و پای تغابن از گل بر نیاید: تاجر کشتی شکسته و وارث با قلندران نشسته.', 'value': 0.75448424}, {'key': 'پیرمردی حکایت کند که دختری خواسته بود و حجره به گل آراسته و به خلوت با او نشسته و دیده و دل در او بسته و شبهای دراز نخفتی و بذله\\u200cها و لطیفه\\u200cها گفتی باشد که مؤانست پذیرد و وحشت نگیرد.', 'value': 0.7531916}, {'key': 'مگو تندرست است رنجوردار\\t\\tکه می\\u200cپیچد از غصه رنجوروار', 'value': 0.74824965}]\n",
            "[{'key': 'فرشته خوی شود آدمی به کم خوردن\\t\\tوگر خورد چو بهایم بیوفتد چو جماد', 'value': 1.0}, {'key': 'نه آیین عقل است و رای و خرد\\t\\tکه دانا فریب مشعبد خورد', 'value': 0.78648055}, {'key': 'تا یکی از دوستان که در کجاوه انیس من بود و در حجره جلیس، به رسم قدیم از در در آمد. چندان که نشاط ملاعبت کرد و بساط مداعبت گسترد جوابش نگفتم و سر از زانوی تعبّد بر نگرفتم. رنجیده نگه کرد و گفت:', 'value': 0.7749399}, {'key': 'نه زهره که فرمان نگیرد به گوش\\t\\tنه یارا که مست اندر آرد به دوش', 'value': 0.77082336}, {'key': 'دور جوانی بشد از دست من\\t\\tآه و دریغ آن زمن دل فروز', 'value': 0.76976264}, {'key': 'شنیده\\u200cای که سکندر برفت تا ظلمات\\t\\tبه چند محنت و خورد آن که خورد آب حیات', 'value': 0.767928}, {'key': 'عجب آن که غراب از مجاورت طوطی هم به جان آمده بود و ملول شده. لاحول کنان از گردش گیتی همی\\u200cنالید و دستهای تغابن بر یکدگر همی مالید که: این چه بخت نگون است و طالع دون و ایام بوقلمون. لایق قدر من آنستی که با زاغی به دیوار باغی بر خرامان همی رفتمی.', 'value': 0.7640379}, {'key': 'ببخشود بر حال مسکین مرد\\t\\tفرو خورد خشم سخنهای سرد', 'value': 0.763216}, {'key': 'شبی مست شد و آتشی برفروخت\\t\\tنگون بخت کالیوه، خرمن بسوخت', 'value': 0.758778}, {'key': 'گروهی مردمان را دید هر یک به قراضه\\u200cای در معبر نشسته و رخت سفر بسته. جوان را دست عطا بسته بود، زبان ثنا برگشود. چندان که زاری کرد یاری نکردند. ملاح بی مروت به خنده برگردید و گفت:', 'value': 0.75816196}]\n"
          ]
        }
      ],
      "source": [
        "test_model(transformer_model, 'transformer')"
      ]
    },
    {
      "cell_type": "markdown",
      "id": "6ef1e4e6-09e4-437b-ae90-fa25c03248ab",
      "metadata": {
        "id": "6ef1e4e6-09e4-437b-ae90-fa25c03248ab"
      },
      "source": [
        "MRR for this test: 0.9583"
      ]
    },
    {
      "cell_type": "markdown",
      "id": "bQcS64aBx7Ni",
      "metadata": {
        "id": "bQcS64aBx7Ni"
      },
      "source": [
        "# FastText"
      ]
    },
    {
      "cell_type": "code",
      "execution_count": null,
      "id": "3bf6b55e-6ad3-4fb8-a4fc-6032423ec2f6",
      "metadata": {
        "id": "3bf6b55e-6ad3-4fb8-a4fc-6032423ec2f6"
      },
      "outputs": [],
      "source": [
        "!pip install fasttext"
      ]
    },
    {
      "cell_type": "code",
      "execution_count": null,
      "id": "tKVZw4s8Yfel",
      "metadata": {
        "id": "tKVZw4s8Yfel"
      },
      "outputs": [],
      "source": [
        "from sklearn.feature_extraction.text import CountVectorizer\n",
        "from sklearn.feature_extraction.text import TfidfVectorizer\n",
        "from sklearn.metrics.pairwise import cosine_similarity\n",
        "from functools import reduce\n",
        "import numpy as np\n",
        "import fasttext"
      ]
    },
    {
      "cell_type": "code",
      "execution_count": null,
      "id": "Qv6-7_Ww99_Q",
      "metadata": {
        "id": "Qv6-7_Ww99_Q"
      },
      "outputs": [],
      "source": [
        "class FastText:\n",
        "    def __init__(self, database, preprocessor, wordNgrams):\n",
        "        self.database = database\n",
        "        self.norm_data = preprocessor.fit(database, tokenize=True)\n",
        "        self.preprocessor = preprocessor\n",
        "        self.wordNgrams = wordNgrams\n",
        "\n",
        "\n",
        "    def fit(self):\n",
        "        corpus = [' '.join(x) for x in get_couplets(self.norm_data)]\n",
        "        content = '\\n'.join(corpus)\n",
        "\n",
        "        addr = 'fasttext.txt'\n",
        "        f = open(addr, 'w', encoding='utf8')\n",
        "        f.write(content)\n",
        "        self.model = fasttext.train_unsupervised(addr)\n",
        "\n",
        "        # save idfs for averaging\n",
        "        vectorizer = TfidfVectorizer()\n",
        "        vectorizer.fit(corpus)\n",
        "        self.idfs = vectorizer.idf_\n",
        "        self.term_idf = vectorizer.vocabulary_\n",
        "        \n",
        "\n",
        "    def search(self, query, method='couplet', k=10):\n",
        "        if method == 'couplet':\n",
        "            return self._search_couplet(query, k)\n",
        "        else:\n",
        "            return self._search_poem(query, k)\n",
        "\n",
        "\n",
        "    def _search_couplet(self, query, k):\n",
        "        query = self.preprocessor.transform(query, tokenize=True)\n",
        "        data = get_couplets(self.norm_data)\n",
        "        similarity = np.array([self._similarity(query, couplet) for couplet in data])\n",
        "        indices = np.argsort(similarity)[::-1][:k]\n",
        "\n",
        "        result = []\n",
        "        couplets = get_couplets(self.database)\n",
        "        for idx in indices:\n",
        "            result.append({ \"key\" : couplets[idx] , \"value\" : similarity[idx]})\n",
        "        \n",
        "        return result\n",
        "\n",
        "\n",
        "    def _search_poem(self, query, k):\n",
        "        pass\n",
        "\n",
        "\n",
        "    def _doc2vec(self, sec):\n",
        "        if len(sec) == 0:\n",
        "            return np.zeros((300,))\n",
        "        \n",
        "        coeff = []\n",
        "        vecs = np.zeros((100,))\n",
        "\n",
        "        for i in range(len(sec)):\n",
        "            new_vec = self.model.get_word_vector(sec[i])\n",
        "            vecs = np.vstack((vecs, new_vec))\n",
        "            try:\n",
        "                coeff.append(self.idfs[self.term_idf[sec[i]]])\n",
        "            except:\n",
        "                coeff.append(1)\n",
        "\n",
        "        vecs = vecs[1:]\n",
        "        maxes = np.amax(vecs, axis=0)\n",
        "        mins = np.amin(vecs, axis=0)\n",
        "        avgs = np.average(vecs, axis=0, weights=coeff)\n",
        "\n",
        "        result = np.hstack((maxes, mins))\n",
        "        result = np.hstack((result, avgs))\n",
        "        norm = np.linalg.norm(result)\n",
        "        if norm != 0:\n",
        "            result /= norm\n",
        "        return result\n",
        "\n",
        "\n",
        "    def _similarity(self, d1, d2):\n",
        "        v1 = self._doc2vec(d1)\n",
        "        v2 = self._doc2vec(d2)\n",
        "\n",
        "        return v1 @ v2"
      ]
    },
    {
      "cell_type": "code",
      "execution_count": null,
      "id": "gKAcDy1XMVJC",
      "metadata": {
        "id": "gKAcDy1XMVJC"
      },
      "outputs": [],
      "source": [
        "fasttext_model = FastText(data, preprocessor, 5)\n",
        "fasttext_model.fit()"
      ]
    },
    {
      "cell_type": "markdown",
      "id": "jBCo2fnkCP5K",
      "metadata": {
        "id": "jBCo2fnkCP5K"
      },
      "source": [
        "## FastText testing"
      ]
    },
    {
      "cell_type": "code",
      "execution_count": null,
      "id": "I_w8TTlNDX8D",
      "metadata": {
        "colab": {
          "base_uri": "https://localhost:8080/"
        },
        "id": "I_w8TTlNDX8D",
        "outputId": "924faf5f-33ad-4cac-aa65-68a4de26f6b5"
      },
      "outputs": [
        {
          "data": {
            "text/plain": [
              "[{'key': 'دلم خانهٔ مهر یار است و بس\\t\\tاز آن می\\u200cنگنجد در او کین کس',\n",
              "  'value': 1.0},\n",
              " {'key': 'معانی است در زیر حرف سیاه\\t\\tچو در پرده معشوق و در میغ ماه',\n",
              "  'value': 0.9999722822678931},\n",
              " {'key': 'ور آوازه خواهی در اقلیم فاش\\t\\tبرون حله کن گو درون حشو باش',\n",
              "  'value': 0.9999662063391745},\n",
              " {'key': 'به زیر آمد از غرفه خلوت نشین\\t\\tبه پایش در افتاد سر بر زمین',\n",
              "  'value': 0.9999618037946284},\n",
              " {'key': 'انگشت تعجب جهانی\\t\\tاز گفت و شنید ما به دندان',\n",
              "  'value': 0.9999565421454938},\n",
              " {'key': 'بصر در سر و فکر و رای و تمیز\\t\\tجوارح به دل، دل به دانش عزیز',\n",
              "  'value': 0.9999565321022973},\n",
              " {'key': 'سکندر که بر عالمی حکم داشت\\t\\tدر آن دم که بگذشت و عالم گذاشت',\n",
              "  'value': 0.9999537504375204},\n",
              " {'key': 'پسر کاو میان قلندر نشست\\t\\tپدر گو ز خیرش فرو شوی دست',\n",
              "  'value': 0.9999524692972396},\n",
              " {'key': 'چه دانند جیحونیان قدر آب\\t\\tز واماندگان پرس در آفتاب',\n",
              "  'value': 0.9999473666770833},\n",
              " {'key': 'چو بلبل، سرایان چو گل تازه روی\\t\\tز شوخی در افکنده غلغل به کوی',\n",
              "  'value': 0.9999433486746243}]"
            ]
          },
          "execution_count": 70,
          "metadata": {},
          "output_type": "execute_result"
        }
      ],
      "source": [
        "query = 'دلم خانه‌ی مهر یار است و بس از آن می‌نگنجد در او کین کس'\n",
        "fasttext_model.search(query)"
      ]
    },
    {
      "cell_type": "code",
      "execution_count": null,
      "id": "vgvdzn4MCkmx",
      "metadata": {
        "colab": {
          "base_uri": "https://localhost:8080/"
        },
        "id": "vgvdzn4MCkmx",
        "outputId": "1c6a2f08-9f05-4407-dbb8-d6579e2d9fb3"
      },
      "outputs": [
        {
          "name": "stdout",
          "output_type": "stream",
          "text": [
            "[{'key': 'زورمندی مکن بر اهل زمین\\t\\tتا دعایی بر آسمان نرود', 'value': 0.9999827534267595}, {'key': 'یکی زندگانی تلف کرده بود\\t\\tبه جهل و ضلالت سر آورده بود', 'value': 0.9999804540631531}, {'key': 'سگالند از او نیکمردان حذر\\t\\tکه خشم خدای است بیدادگر', 'value': 0.9999772640593255}, {'key': 'در اندیشه\\u200cام تا کدامم کریم\\t\\tاز آن سنگدل دست گیرد به سیم', 'value': 0.9999741457778801}, {'key': 'قدیمی نکوکار نیکی\\u200cپسند\\t\\tبه کلک قضا در رحم نقش\\u200cبند', 'value': 0.999972896389823}, {'key': 'یکی زآن میان به فراست به جای آورد و گفت: ای ملک! ما در این دنیا به جیش از تو کمتریم و به عیش خوشتر و به مرگ برابر و به قیامت بهتر.', 'value': 0.9999721450121442}, {'key': 'چو چنگش کشیدند حالی به موی\\t\\tغلامان و چون دف زدندش به روی', 'value': 0.9999695807660721}, {'key': 'چو زاو کرده باشم تحمل بسی\\t\\tتوانم جفا بردن از هر کسی', 'value': 0.999969269611994}, {'key': 'که این را ندانم چه خوانند و کیست!\\t\\tنخواهد به سامان در این ملک زیست', 'value': 0.9999689696333075}, {'key': 'که تا هست حاتم در ایام من\\t\\tنخواهد به نیکی شدن نام من', 'value': 0.9999678499663713}]\n",
            "[{'key': 'بگفت احوال ما برق جهان است\\t\\tدمی پیدا و دیگر دم نهان است', 'value': 0.9999778122923806}, {'key': 'ولیکن خداوند بالا و پست\\t\\tبه عصیان در رزق بر کس نبست', 'value': 0.9999775007203896}, {'key': 'خداوندگارا نظر کن به جود\\t\\tکه جرم آمد از بندگان در وجود', 'value': 0.9999722969131027}, {'key': 'سعید آورد قول سعدی به جای\\t\\tکه ترتیب ملک است و تدبیر رای', 'value': 0.9999706996266857}, {'key': 'اگر نفع کس در نهاد تو نیست\\t\\tچنین گوهر و سنگ خارا یکی است', 'value': 0.9999692001066651}, {'key': 'پی نیک\\u200cمردان بباید شتافت\\t\\tکه هر کاین سعادت طلب کرد یافت', 'value': 0.9999661395360634}, {'key': 'همه وقت مردم ز جور زمان\\t\\tبنالند و از گردش آسمان', 'value': 0.9999649229439186}, {'key': 'گروهی عمل دار عزلت نشین\\t\\tقدمهای خاکی، دم آتشین', 'value': 0.9999638753090736}, {'key': 'بسی دیده شاهان و دوران و امر\\t\\tسرآورده عمری ز تاریخ عمرو', 'value': 0.999963655991879}, {'key': 'مریز آبروی برادر به کوی\\t\\tکه دهرت نریزد به شهر آبروی', 'value': 0.9999634244513109}]\n",
            "[{'key': 'اتابک محمد شه نیکبخت\\t\\tخداوند تاج و خداوند تخت', 'value': 1.0000000000000002}, {'key': 'آورده\\u200cاند که انوشیروان عادل را در شکارگاهی صید کباب کردند و نمک نبود غلامی به روستا رفت تا نمک آرد نوشیروان گفت نمک به قیمت بستان تا رسمی نشود و ده خراب نگردد گفتند از این قدر چه خلل آید گفت بنیاد ظلم در جهان اوّل اندکی بوده است هر که آمد بر او مزیدی کرده تا بدین غایت رسیده', 'value': 0.9999612382190675}, {'key': 'بفرمودش تا حاضر آوردند و ملامت کردن گرفت که: در شرف نفس انسان چه خلل دیدی که خوی بهایم گرفتی و ترک عشرت مردم گفتی؟', 'value': 0.999955457103241}, {'key': 'کرا پای خاطر بر آمد به سنگ\\t\\tنیندیشد از شیشهٔ نام و ننگ', 'value': 0.9999527291142637}, {'key': 'گر از فتنه آید کسی در پناه\\t\\tندارد جز این کشور آرامگاه', 'value': 0.9999485328770108}, {'key': 'چه جرم دید خداوند سابق الانعام \\t\\tکه بنده در نظر خویش خوار می\\u200cدارد', 'value': 0.9999484832259954}, {'key': 'بازرگانی را شنیدم که صد و پنجاه شتر بار داشت و چهل بنده خدمتکار.', 'value': 0.9999447103499606}, {'key': 'تو را نیست این تکیه بر کردگار\\t\\tکه مملوک را بر خداوندگار', 'value': 0.9999444223922003}, {'key': 'به منزلگه حاتم آمد فرود\\t\\tبر آسود چون تشنه بر زنده رود', 'value': 0.9999397382098275}, {'key': 'ز کار بسته میندیش و دل شکسته مدار \\t\\tکه آب چشمه حیوان درون تاریکی است', 'value': 0.9999376857454549}]\n",
            "[{'key': 'مرا لفظ شیرین خواننده داد\\t\\tتو را سمع و ادراک داننده داد', 'value': 1.0}, {'key': 'ذکر جمیل سعدی که در افواه عوام افتاده است و صیت سخنش که در بسیط زمین رفته و قصب الجیب حدیثش که همچون شکر می\\u200cخورند و رقعهٔ منشآتش که چون کاغذ زر می\\u200cبرند بر کمال فضل و بلاغت او حمل نتوان کرد بلکه خداوند جهان و قطب دایرهٔ زمان و قایم مقام سلیمان و ناصر اهل ایمان اتابک اعظم مظفر الدنیا و الدین ابوبکر بن سعد بن زنگی ظلّ الله تعالی فی ارضه رَبِّ اِرْضَ عَنهُ و اَرْضِه به عین عنایت نظر کرده است و تحسین بلیغ فرموده و ارادت صادق نموده، لاجرم کافهٔ انام از خواص و عوام به محبت او گراییده\\u200cاند که الناسُ علی دینِ ملوکِهم.', 'value': 0.9999834994040661}, {'key': 'عجب گر بود راهم از دست راست\\t\\tکه از دست من جز کجی برنخاست', 'value': 0.9999719658826638}, {'key': 'قوی در بلاغات و در نحو چست\\t\\tولی حرف ابجد نگفتی درست', 'value': 0.9999689589309259}, {'key': 'دگر روز خادم گرفتش به راه\\t\\tکه ناخوب کردی به رأی تباه', 'value': 0.9999649334547545}, {'key': 'مقدمه نحو زمخشری در دست داشت و همی خواند: ضرب زیدُ عمرواً و کان المتعدیّ عمرواً. گفتم: ای پسر، خوارزم و ختا صلح کردند و زید و عمرو را همچنان خصومت باقیست؟ بخندید و مولدم پرسید، گفتم: خاک شیراز. گفت: از سخنان سعدی چه داری؟ گفتم:', 'value': 0.9999617502604493}, {'key': 'فطوبی لباب کبیت العتیق\\t\\tحوالیه من کل فج عمیق', 'value': 0.999955266934155}, {'key': 'در معانی این آیت که «و نَحن اَقرَبُ الیه مِنْ حَبل الورید» سخن به جایی رسانیده که گفتم:', 'value': 0.999950811130347}, {'key': 'با بدان یار گشت همسر لوط \\t\\tخاندان نبوّتش گم شد', 'value': 0.9999506626287888}, {'key': 'تو را عز لولاک تمکین بس است\\t\\tثنای تو طه و یس بس است', 'value': 0.9999471967062296}]\n",
            "[{'key': 'عسل دادت از نحل و من از هوا\\t\\tرطب دادت از نخل و نخل از نوی', 'value': 1.0}, {'key': 'یکی یهود و مسلمان نزاع می\\u200cکردند\\t\\tچنان که خنده گرفت از حدیث ایشانم', 'value': 0.9999432355546451}, {'key': 'مترس از جوانان شمشیر زن\\t\\tحذر کن ز پیران بسیار فن', 'value': 0.9999308350096889}, {'key': 'مشورت با زنان تباه است و سخاوت با مفسدان گناه.', 'value': 0.9999256346063654}, {'key': 'به صید هژبران پرخاش ساز\\t\\tکمند اژدهای دهن کرده باز', 'value': 0.9999238212332423}, {'key': 'کنون کوش کآب از کمر در گذشت\\t\\tنه وقتی که سیلابت از سر گذشت', 'value': 0.9999230885269288}, {'key': 'که نارفته بیرون ز آغوش زن\\t\\tکدامش هنر باشد و رای و فن؟', 'value': 0.9999112616828089}, {'key': 'پس از مدتی که باز آمد عتاب آغاز کرد که: در این مدت قاصدی نفرستادی.', 'value': 0.9999039212639984}, {'key': 'دمی نرگس از خواب نوشین بشوی\\t\\tچو گلبن بخند و چو بلبل بگوی', 'value': 0.9998961870368278}, {'key': 'باز از شماتت اعدا بر اندیشم که به طعنه در قفای من بخندند و سعی مرا در حق عیال بر عدم مروّت حمل کنند و گویند', 'value': 0.9998959916741941}]\n",
            "[{'key': 'سر آنگه به بالین نهد هوشمند\\t\\tکه خوابش به قهر آورد در کمند', 'value': 0.9999999999999997}, {'key': 'تواضع کند هوشمند گزین\\t\\tنهد شاخ پر میوه سر بر زمین', 'value': 0.9999800816080573}, {'key': 'اگر بمرد عدو جای شادمانی نیست\\t\\tکه زندگانی ما نیز جاودانی نیست', 'value': 0.9999789299011818}, {'key': 'دانی که چه گفت زال با رستم گرد \\t\\tدشمن نتوان حقیر و بیچاره شمرد', 'value': 0.9999784638770988}, {'key': 'یکی رفت و دینار از او صد هزار\\t\\tخلف برد صاحبدلی هوشیار', 'value': 0.9999784637204026}, {'key': 'مرا شرمساری ز روی تو بس\\t\\tدگر شرمسارم مکن پیش کس', 'value': 0.999978274760344}, {'key': 'چشم بداندیش که برکنده باد\\t\\tعیب نماید هنرش در نظر', 'value': 0.9999775254894328}, {'key': 'که من بعد بی آبرویی مکن\\t\\tادب نیست پیش بزرگان سخن', 'value': 0.9999773830798843}, {'key': 'جفای پدر برد و زندان و بند\\t\\tچنان سودمندش نیامد که پند', 'value': 0.9999770164228877}, {'key': 'ز بخت روی ترش کرده پیش یار عزیز\\t\\tمرو که عیش بر او نیز تلخ گردانی', 'value': 0.9999761496991973}]\n",
            "[{'key': 'هر آن سری که در سر داری با دوست در میان منه چه دانی که وقتی دشمن گردد و هر گزندی که توانی، به دشمن مرسان که باشد که وقتی دوست شود.', 'value': 1.0}, {'key': 'اگر کنج خلوت گزیند کسی\\t\\tکه پروای صحبت ندارد بسی', 'value': 0.9999861604128987}, {'key': 'چو پرخاش بینی تحمل بیار\\t\\tکه سهلی ببندد در کارزار', 'value': 0.9999854925843319}, {'key': 'از این به نصیحت نگوید کست\\t\\tاگر عاقلی یک اشارت بست', 'value': 0.9999845933835005}, {'key': 'بدو گفتم ای یار آشفته هوش\\t\\tشگفت آمد این داستانم به گوش', 'value': 0.9999840589409632}, {'key': 'به محشر گواه گناهم گر اوست\\t\\tز دوزخ نترسم که کارم نکوست', 'value': 0.9999840208790504}, {'key': 'گر از هستی حق خبر داشتی\\t\\tهمه خلق را نیست پنداشتی', 'value': 0.9999839087646312}, {'key': 'خداوند تدبیر و فرهنگ و هوش\\t\\tنگوید سخن تا نبیند خموش', 'value': 0.9999837686289499}, {'key': 'در این کشور آسایش و خرمی\\t\\tندید و نبیند به چشم آدمی', 'value': 0.999983624603114}, {'key': 'ره نیکمردان آزاده گیر\\t\\tچو استاده\\u200cای دست افتاده گیر', 'value': 0.9999826832300894}]\n",
            "[{'key': 'هارون الرشید را چون ملک دیار مصر مسلم شد گفت: به خلاف آن طاغی که به غرور ملک مصر دعوی خدایی کرد نبخشم این مملکت را مگر به خسیس\\u200cترین بندگان.', 'value': 1.0}, {'key': 'گرت در دریای فضل است خیز\\t\\tبه تذکیر در پای درویش ریز', 'value': 0.9999758797510778}, {'key': 'وگر نیستی سعی جاسوس گوش\\t\\tخبر کی رسیدی به سلطان هوش', 'value': 0.9999746155390601}, {'key': 'ملک را حسن تدبیر فقیه و تقریر جواب او موافق رای آمد. خلعت و نعمت بخشید و پایه منصب بلند گردانید.', 'value': 0.9999745875995353}, {'key': 'اگر روزی به دانش در فزودی\\t\\tز نادان تنگ روزی تر نبودی', 'value': 0.9999730178611871}, {'key': 'پسر گفت: ای پدر! هر آینه تا رنج نبری گنج برنداری و تا جان در خطر ننهی بر دشمن ظفر نیابی و تا دانه پریشان نکنی خرمن برنگیری.', 'value': 0.999969502646927}, {'key': 'خشکسالی در اسکندریه عنان طاقت درویش از دست رفته بود، درهای آسمان بر زمین بسته و فریاد اهل زمین به آسمان پیوسته.', 'value': 0.9999630159285507}, {'key': 'چو مردانگی آید از رهزنان\\t\\tچه مردان لشکر، چه خیل زنان', 'value': 0.9999620401792616}, {'key': 'بر حالت من رحمت آورد و به ده دینار از قیدم خلاص کرد و با خود به حلب برد و دختری که داشت به نکاح من در آورد به کابین صد دینار.', 'value': 0.9999571426321838}, {'key': 'زن از مرد موذی به بسیار به\\t\\tسگ از مردم مردم\\u200cآزار به', 'value': 0.999949975261682}]\n",
            "[{'key': 'رازی که نهان خواهی، با کس در میان منه وگر چه دوست مخلص باشد که مر آن دوست را نیز دوستان مخلص باشد، همچنین مسلسل.', 'value': 0.999985896758425}, {'key': 'یار دیرینه مرا گو به زبان توبه مده\\t\\tکه مرا توبه به شمشیر نخواهد بودن', 'value': 0.99998204016481}, {'key': 'گفت: بر رای خداوند روی زمین پوشیده نماند که تربیت یکسان است و طباع مختلف.', 'value': 0.9999813183328891}, {'key': 'کاش کآن روز که در پای تو شد خار اجل\\t\\tدست گیتی بزدی تیغ هلاکم بر سر', 'value': 0.9999811711169249}, {'key': 'که گر خاک شد سعدی، او را چه غم؟\\t\\tکه در زندگی خاک بوده\\u200cست هم', 'value': 0.9999756321062905}, {'key': 'غافلی را شنیدم که خانه رعیت خراب کردی تا خزانه سلطان آباد کند بی خبر از قول حکیمان که گفته\\u200cاند هر که خدای را عزّ و جلّ بیازارد تا دل خلقی به دست آرد خداوند تعالی همان خلق را بر او گمارد تا دمار از روزگارش بر آرد', 'value': 0.9999739345998491}, {'key': 'خطیب اندر این لختی بیندیشید و گفت: این مبارک خواب است که دیدی که مرا بر عیب خود واقف گردانیدی. معلوم شد که آواز ناخوش دارم و خلق از بلند خواندن من در رنج. توبه کردم کز این پس خطبه نگویم مگر به آهستگی.', 'value': 0.9999706105247623}, {'key': 'گرت بار دیگر ببینم به تیغ\\t\\tچو دشمن ببرم سرت بی دریغ', 'value': 0.9999692482150508}, {'key': 'همچنین در قاع بسیط مسافری گم شده بود و قوت و قوّتش به آخر آمده و درمی چند بر میان داشت. بسیاری بگردید و ره به جایی نبرد. پس به سختی هلاک شد. طایفه\\u200cای برسیدند و درمها دیدند پیش رویش نهاده و بر خاک نبشته:', 'value': 0.9999680410161289}, {'key': 'امید بسته بر آمد ولی چه فایده زانک \\t\\tامید نیست که عمر گذشته باز آید', 'value': 0.9999674625026906}]\n",
            "[{'key': 'فرشته خوی شود آدمی به کم خوردن\\t\\tوگر خورد چو بهایم بیوفتد چو جماد', 'value': 1.0000000000000002}, {'key': 'شبی زیت فکرت همی سوختم\\t\\tچراغ بلاغت می افروختم', 'value': 0.9999805453387044}, {'key': 'شاه از بهر دفع ستمکاران است و شحنه برای خونخواران و قاضی مصلحت جوی طراران. هرگز دو خصم به حق راضی پیش قاضی نروند.', 'value': 0.999979540036061}, {'key': 'ردّ میراث سخت\\u200cتر بودی\\t\\tوارثان را ز مرگ خویشاوند', 'value': 0.9999744058199552}, {'key': 'که همچون پدر خواهد این سفله مرد\\t\\tکه نعمت رها کرد و حسرت ببرد', 'value': 0.9999670015758733}, {'key': 'حسد مرد را بر سر کینه داشت\\t\\tیکی را به خون خوردنش بر گماشت', 'value': 0.9999656796178251}, {'key': 'ببایدت عذر خطا خواستن\\t\\tپس از شیخ صالح دعا خواستن', 'value': 0.9999652006039575}, {'key': 'به خرده توان آتش افروختن\\t\\tپس آنگه درخت کهن سوختن', 'value': 0.9999613946038342}, {'key': 'فی الجمله پاس خاطر یاران را موافقت کردم و شبی به چند مجاهده به روز آوردم.', 'value': 0.9999606843679532}, {'key': 'بعد از تأمل این معنی مصلحت چنان دیدم که در نشیمن عزلت نشینم و دامن صحبت فراهم چینم و دفتر از گفت\\u200cهای پریشان بشویم و من بعد پریشان نگویم.', 'value': 0.9999592527252645}]\n"
          ]
        }
      ],
      "source": [
        "test_model(fasttext_model, 'fasttext')"
      ]
    },
    {
      "cell_type": "markdown",
      "id": "013d6e99-35dd-4ac0-8d05-ce2ad6da6d4a",
      "metadata": {
        "id": "013d6e99-35dd-4ac0-8d05-ce2ad6da6d4a"
      },
      "source": [
        "MRR for this test: 0.5571"
      ]
    }
  ],
  "metadata": {
    "accelerator": "GPU",
    "colab": {
      "collapsed_sections": [
        "cCo2r3KJ9GUl",
        "e462970a-6659-4051-8af6-15107a3e2adf",
        "7d0a104d-c925-48f2-8c8f-262be715fb61",
        "rXDg2f1v9wV2",
        "DJ0LvbpwyBVW",
        "bQcS64aBx7Ni"
      ],
      "name": "IR_CA3.ipynb",
      "provenance": []
    },
    "kernelspec": {
      "display_name": "Python 3",
      "language": "python",
      "name": "python3"
    },
    "language_info": {
      "codemirror_mode": {
        "name": "ipython",
        "version": 3
      },
      "file_extension": ".py",
      "mimetype": "text/x-python",
      "name": "python",
      "nbconvert_exporter": "python",
      "pygments_lexer": "ipython3",
      "version": "3.9.4"
    }
  },
  "nbformat": 4,
  "nbformat_minor": 5
}